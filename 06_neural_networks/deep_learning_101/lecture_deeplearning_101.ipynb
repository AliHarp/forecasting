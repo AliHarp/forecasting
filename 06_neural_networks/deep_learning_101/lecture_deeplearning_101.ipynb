{
 "cells": [
  {
   "cell_type": "markdown",
   "metadata": {},
   "source": [
    "# Deep Learning 101\n",
    "\n",
    "<div class=\"alert alert-success\">\n",
    "This lecture takes a practical approach to introduce modern deep learning approaches.  It provides foundational deep learning knowledge in order for you to move onto time series forecasting.\n",
    "</div>\n",
    "\n",
    "**By the end of this lecture you will have:**\n",
    "    \n",
    "* Developed a conceptual understanding of modern deep neural networks.\n",
    "* Built intuition about what hidden layers within a deep network are doing and how they aid prediction.\n",
    "* Understand the definition and benefits of mini batches of training data\n",
    "* Built intuition about how networks 'learn' using the backpropogation algorithm and stochastic gradient descent.\n",
    "* Learnt how to build simple neural network architectures in Keras and Tensorflow 2.0\n",
    "* The foundational knowledge to move onto using feedforward neural networks for time series forecasting."
   ]
  },
  {
   "cell_type": "markdown",
   "metadata": {},
   "source": [
    "# Standard Imports"
   ]
  },
  {
   "cell_type": "code",
   "execution_count": 1,
   "metadata": {},
   "outputs": [],
   "source": [
    "import numpy as np\n",
    "import pandas as pd\n",
    "import matplotlib.pyplot as plt"
   ]
  },
  {
   "cell_type": "markdown",
   "metadata": {},
   "source": [
    "# Keras and Tensorflow Imports\n",
    "\n",
    "For your deep learning you will make use of [Keras](https://keras.io/).  This is a python library that sits on top of Google's deep learning toolset: Tensorflow 2.0.  Keras makes deep learning relatively straightfoward because it hides a lot of the complexity of Tensorflow. \n",
    "\n",
    "> Another very powerful deep learning framework is [PyTorch](https://pytorch.org/).  This is a pythonic deep learning toolkit and is also very powerful.  Our research experience is that PyTorch is more efficient than Keras and Tensorflow (sometimes by a considerable margin), but that it requires more code to do the same things as Keras.  Another way to look at this is that Keras comes with 'more bells and whistles' than PyTorch and for learning that comes in very handy!  The exercises that you will tackle in this course are written in Keras/TF, but you will also have access to optional material written in PyTorch."
   ]
  },
  {
   "cell_type": "code",
   "execution_count": 2,
   "metadata": {},
   "outputs": [
    {
     "name": "stdout",
     "output_type": "stream",
     "text": [
      "2.1.0\n"
     ]
    }
   ],
   "source": [
    "import tensorflow as tf\n",
    "from tensorflow import keras\n",
    "\n",
    "#if using hds_forecast this should be version 2.0+\n",
    "print(tf.__version__)"
   ]
  },
  {
   "cell_type": "markdown",
   "metadata": {},
   "source": [
    "# Computational cost of deep learning\n",
    "\n",
    "When you have a complex deep learning architecture (which isn't always the case) and lots of data you should expect it to be more computationally expensive (take longer to run and work your CPU hard) than other types of ML.  In these instances, you really need a powerful machine and for some models a GPU.  For **time series forecasting**, we will be using the OpenStack on the High Performance Cluster, but for personal learning and coursework you can also make use of Google Colaboratory (Jupyter in the cloud).  Google also provide a GPU.  All of the neural network notebooks in this course are runnable in Google Colab. "
   ]
  },
  {
   "cell_type": "markdown",
   "metadata": {},
   "source": [
    "# A first look at Deep Learning using Tensorflow Playground"
   ]
  },
  {
   "cell_type": "markdown",
   "metadata": {},
   "source": [
    "[Tensorflow playground](https://playground.tensorflow.org/#activation=tanh&batchSize=10&dataset=circle&regDataset=reg-plane&learningRate=0.03&regularizationRate=0&noise=0&networkShape=4,2&seed=0.55467&showTestData=false&discretize=false&percTrainData=50&x=true&y=true&xTimesY=false&xSquared=false&ySquared=false&cosX=false&sinX=false&cosY=false&sinY=false&collectStats=false&problem=classification&initZero=false&hideText=false) is provided by Google.  I recommend that you spend some time using it as it helps build intuition about how deep learning works."
   ]
  },
  {
   "cell_type": "markdown",
   "metadata": {},
   "source": [
    "# Components needed for deep learning.\n",
    "\n",
    "## 1. Training and test data\n",
    "\n",
    "The data for this lecture is a real dataset known as the [Wisconsin Breast Cancer](https://archive.ics.uci.edu/ml/datasets/Breast+Cancer+Wisconsin+(Diagnostic)) dataset. The data set consists of individual   we will use a **Feedforward Neural Network Architecture.**\n",
    "\n",
    "The data are published and open; feel free to take a look at them in more detail.\n",
    "\n",
    "> The dataset contains 30 features and a binary label (benign/malignant)"
   ]
  },
  {
   "cell_type": "code",
   "execution_count": 3,
   "metadata": {},
   "outputs": [],
   "source": [
    "url = 'https://raw.githubusercontent.com/MichaelAllen1966/synthetic_data_pilot/main/01_wisconsin/wisconsin.csv'\n",
    "cancer = pd.read_csv(url)"
   ]
  },
  {
   "cell_type": "code",
   "execution_count": 4,
   "metadata": {},
   "outputs": [],
   "source": [
    "# Load data and drop 'id' column\n",
    "cancer.drop('id', axis=1, inplace=True)\n",
    "\n",
    "# Change 'diagnosis' column to 'malignant', and put in last column place\n",
    "cancer['malignant'] = cancer['diagnosis'] == 'M'\n",
    "cancer.drop('diagnosis', axis=1, inplace=True)"
   ]
  },
  {
   "cell_type": "code",
   "execution_count": 5,
   "metadata": {},
   "outputs": [
    {
     "data": {
      "text/plain": [
       "(569, 31)"
      ]
     },
     "execution_count": 5,
     "metadata": {},
     "output_type": "execute_result"
    }
   ],
   "source": [
    "# 30 features and a single binary (0/1) label\n",
    "cancer.shape"
   ]
  },
  {
   "cell_type": "code",
   "execution_count": 6,
   "metadata": {},
   "outputs": [
    {
     "data": {
      "text/html": [
       "<div>\n",
       "<style scoped>\n",
       "    .dataframe tbody tr th:only-of-type {\n",
       "        vertical-align: middle;\n",
       "    }\n",
       "\n",
       "    .dataframe tbody tr th {\n",
       "        vertical-align: top;\n",
       "    }\n",
       "\n",
       "    .dataframe thead th {\n",
       "        text-align: right;\n",
       "    }\n",
       "</style>\n",
       "<table border=\"1\" class=\"dataframe\">\n",
       "  <thead>\n",
       "    <tr style=\"text-align: right;\">\n",
       "      <th></th>\n",
       "      <th>radius_mean</th>\n",
       "      <th>texture_mean</th>\n",
       "      <th>perimeter_mean</th>\n",
       "      <th>area_mean</th>\n",
       "      <th>smoothness_mean</th>\n",
       "      <th>compactness_mean</th>\n",
       "      <th>concavity_mean</th>\n",
       "      <th>concave points_mean</th>\n",
       "      <th>symmetry_mean</th>\n",
       "      <th>fractal_dimension_mean</th>\n",
       "      <th>...</th>\n",
       "      <th>texture_worst</th>\n",
       "      <th>perimeter_worst</th>\n",
       "      <th>area_worst</th>\n",
       "      <th>smoothness_worst</th>\n",
       "      <th>compactness_worst</th>\n",
       "      <th>concavity_worst</th>\n",
       "      <th>concave points_worst</th>\n",
       "      <th>symmetry_worst</th>\n",
       "      <th>fractal_dimension_worst</th>\n",
       "      <th>malignant</th>\n",
       "    </tr>\n",
       "  </thead>\n",
       "  <tbody>\n",
       "    <tr>\n",
       "      <th>0</th>\n",
       "      <td>17.99</td>\n",
       "      <td>10.38</td>\n",
       "      <td>122.80</td>\n",
       "      <td>1001.0</td>\n",
       "      <td>0.11840</td>\n",
       "      <td>0.27760</td>\n",
       "      <td>0.3001</td>\n",
       "      <td>0.14710</td>\n",
       "      <td>0.2419</td>\n",
       "      <td>0.07871</td>\n",
       "      <td>...</td>\n",
       "      <td>17.33</td>\n",
       "      <td>184.60</td>\n",
       "      <td>2019.0</td>\n",
       "      <td>0.1622</td>\n",
       "      <td>0.6656</td>\n",
       "      <td>0.7119</td>\n",
       "      <td>0.2654</td>\n",
       "      <td>0.4601</td>\n",
       "      <td>0.11890</td>\n",
       "      <td>True</td>\n",
       "    </tr>\n",
       "    <tr>\n",
       "      <th>1</th>\n",
       "      <td>20.57</td>\n",
       "      <td>17.77</td>\n",
       "      <td>132.90</td>\n",
       "      <td>1326.0</td>\n",
       "      <td>0.08474</td>\n",
       "      <td>0.07864</td>\n",
       "      <td>0.0869</td>\n",
       "      <td>0.07017</td>\n",
       "      <td>0.1812</td>\n",
       "      <td>0.05667</td>\n",
       "      <td>...</td>\n",
       "      <td>23.41</td>\n",
       "      <td>158.80</td>\n",
       "      <td>1956.0</td>\n",
       "      <td>0.1238</td>\n",
       "      <td>0.1866</td>\n",
       "      <td>0.2416</td>\n",
       "      <td>0.1860</td>\n",
       "      <td>0.2750</td>\n",
       "      <td>0.08902</td>\n",
       "      <td>True</td>\n",
       "    </tr>\n",
       "    <tr>\n",
       "      <th>2</th>\n",
       "      <td>19.69</td>\n",
       "      <td>21.25</td>\n",
       "      <td>130.00</td>\n",
       "      <td>1203.0</td>\n",
       "      <td>0.10960</td>\n",
       "      <td>0.15990</td>\n",
       "      <td>0.1974</td>\n",
       "      <td>0.12790</td>\n",
       "      <td>0.2069</td>\n",
       "      <td>0.05999</td>\n",
       "      <td>...</td>\n",
       "      <td>25.53</td>\n",
       "      <td>152.50</td>\n",
       "      <td>1709.0</td>\n",
       "      <td>0.1444</td>\n",
       "      <td>0.4245</td>\n",
       "      <td>0.4504</td>\n",
       "      <td>0.2430</td>\n",
       "      <td>0.3613</td>\n",
       "      <td>0.08758</td>\n",
       "      <td>True</td>\n",
       "    </tr>\n",
       "    <tr>\n",
       "      <th>3</th>\n",
       "      <td>11.42</td>\n",
       "      <td>20.38</td>\n",
       "      <td>77.58</td>\n",
       "      <td>386.1</td>\n",
       "      <td>0.14250</td>\n",
       "      <td>0.28390</td>\n",
       "      <td>0.2414</td>\n",
       "      <td>0.10520</td>\n",
       "      <td>0.2597</td>\n",
       "      <td>0.09744</td>\n",
       "      <td>...</td>\n",
       "      <td>26.50</td>\n",
       "      <td>98.87</td>\n",
       "      <td>567.7</td>\n",
       "      <td>0.2098</td>\n",
       "      <td>0.8663</td>\n",
       "      <td>0.6869</td>\n",
       "      <td>0.2575</td>\n",
       "      <td>0.6638</td>\n",
       "      <td>0.17300</td>\n",
       "      <td>True</td>\n",
       "    </tr>\n",
       "    <tr>\n",
       "      <th>4</th>\n",
       "      <td>20.29</td>\n",
       "      <td>14.34</td>\n",
       "      <td>135.10</td>\n",
       "      <td>1297.0</td>\n",
       "      <td>0.10030</td>\n",
       "      <td>0.13280</td>\n",
       "      <td>0.1980</td>\n",
       "      <td>0.10430</td>\n",
       "      <td>0.1809</td>\n",
       "      <td>0.05883</td>\n",
       "      <td>...</td>\n",
       "      <td>16.67</td>\n",
       "      <td>152.20</td>\n",
       "      <td>1575.0</td>\n",
       "      <td>0.1374</td>\n",
       "      <td>0.2050</td>\n",
       "      <td>0.4000</td>\n",
       "      <td>0.1625</td>\n",
       "      <td>0.2364</td>\n",
       "      <td>0.07678</td>\n",
       "      <td>True</td>\n",
       "    </tr>\n",
       "  </tbody>\n",
       "</table>\n",
       "<p>5 rows × 31 columns</p>\n",
       "</div>"
      ],
      "text/plain": [
       "   radius_mean  texture_mean  perimeter_mean  area_mean  smoothness_mean  \\\n",
       "0        17.99         10.38          122.80     1001.0          0.11840   \n",
       "1        20.57         17.77          132.90     1326.0          0.08474   \n",
       "2        19.69         21.25          130.00     1203.0          0.10960   \n",
       "3        11.42         20.38           77.58      386.1          0.14250   \n",
       "4        20.29         14.34          135.10     1297.0          0.10030   \n",
       "\n",
       "   compactness_mean  concavity_mean  concave points_mean  symmetry_mean  \\\n",
       "0           0.27760          0.3001              0.14710         0.2419   \n",
       "1           0.07864          0.0869              0.07017         0.1812   \n",
       "2           0.15990          0.1974              0.12790         0.2069   \n",
       "3           0.28390          0.2414              0.10520         0.2597   \n",
       "4           0.13280          0.1980              0.10430         0.1809   \n",
       "\n",
       "   fractal_dimension_mean  ...  texture_worst  perimeter_worst  area_worst  \\\n",
       "0                 0.07871  ...          17.33           184.60      2019.0   \n",
       "1                 0.05667  ...          23.41           158.80      1956.0   \n",
       "2                 0.05999  ...          25.53           152.50      1709.0   \n",
       "3                 0.09744  ...          26.50            98.87       567.7   \n",
       "4                 0.05883  ...          16.67           152.20      1575.0   \n",
       "\n",
       "   smoothness_worst  compactness_worst  concavity_worst  concave points_worst  \\\n",
       "0            0.1622             0.6656           0.7119                0.2654   \n",
       "1            0.1238             0.1866           0.2416                0.1860   \n",
       "2            0.1444             0.4245           0.4504                0.2430   \n",
       "3            0.2098             0.8663           0.6869                0.2575   \n",
       "4            0.1374             0.2050           0.4000                0.1625   \n",
       "\n",
       "   symmetry_worst  fractal_dimension_worst  malignant  \n",
       "0          0.4601                  0.11890       True  \n",
       "1          0.2750                  0.08902       True  \n",
       "2          0.3613                  0.08758       True  \n",
       "3          0.6638                  0.17300       True  \n",
       "4          0.2364                  0.07678       True  \n",
       "\n",
       "[5 rows x 31 columns]"
      ]
     },
     "execution_count": 6,
     "metadata": {},
     "output_type": "execute_result"
    }
   ],
   "source": [
    "cancer.head()"
   ]
  },
  {
   "cell_type": "markdown",
   "metadata": {},
   "source": [
    "# Rescaled data\n",
    "\n",
    "You should always rescale the features that you use to train a neural network.  "
   ]
  },
  {
   "cell_type": "code",
   "execution_count": 7,
   "metadata": {},
   "outputs": [],
   "source": [
    "# we will rescale all data to be between 0 and 1\n",
    "from sklearn.preprocessing import MinMaxScaler"
   ]
  },
  {
   "cell_type": "code",
   "execution_count": 8,
   "metadata": {},
   "outputs": [],
   "source": [
    "to_rescale = cancer.columns[:-1]\n",
    "\n",
    "#create dataframe of quantitative data to rescale 0 - 1\n",
    "df_to_rescale = cancer[to_rescale]\n",
    "\n",
    "#dataframe of y variable\n",
    "y = cancer['malignant']"
   ]
  },
  {
   "cell_type": "code",
   "execution_count": 9,
   "metadata": {},
   "outputs": [
    {
     "name": "stdout",
     "output_type": "stream",
     "text": [
      "(569, 30)\n"
     ]
    },
    {
     "data": {
      "text/html": [
       "<div>\n",
       "<style scoped>\n",
       "    .dataframe tbody tr th:only-of-type {\n",
       "        vertical-align: middle;\n",
       "    }\n",
       "\n",
       "    .dataframe tbody tr th {\n",
       "        vertical-align: top;\n",
       "    }\n",
       "\n",
       "    .dataframe thead th {\n",
       "        text-align: right;\n",
       "    }\n",
       "</style>\n",
       "<table border=\"1\" class=\"dataframe\">\n",
       "  <thead>\n",
       "    <tr style=\"text-align: right;\">\n",
       "      <th></th>\n",
       "      <th>radius_mean</th>\n",
       "      <th>texture_mean</th>\n",
       "      <th>perimeter_mean</th>\n",
       "      <th>area_mean</th>\n",
       "      <th>smoothness_mean</th>\n",
       "      <th>compactness_mean</th>\n",
       "      <th>concavity_mean</th>\n",
       "      <th>concave points_mean</th>\n",
       "      <th>symmetry_mean</th>\n",
       "      <th>fractal_dimension_mean</th>\n",
       "      <th>...</th>\n",
       "      <th>radius_worst</th>\n",
       "      <th>texture_worst</th>\n",
       "      <th>perimeter_worst</th>\n",
       "      <th>area_worst</th>\n",
       "      <th>smoothness_worst</th>\n",
       "      <th>compactness_worst</th>\n",
       "      <th>concavity_worst</th>\n",
       "      <th>concave points_worst</th>\n",
       "      <th>symmetry_worst</th>\n",
       "      <th>fractal_dimension_worst</th>\n",
       "    </tr>\n",
       "  </thead>\n",
       "  <tbody>\n",
       "    <tr>\n",
       "      <th>0</th>\n",
       "      <td>0.521037</td>\n",
       "      <td>0.022658</td>\n",
       "      <td>0.545989</td>\n",
       "      <td>0.363733</td>\n",
       "      <td>0.593753</td>\n",
       "      <td>0.792037</td>\n",
       "      <td>0.703140</td>\n",
       "      <td>0.731113</td>\n",
       "      <td>0.686364</td>\n",
       "      <td>0.605518</td>\n",
       "      <td>...</td>\n",
       "      <td>0.620776</td>\n",
       "      <td>0.141525</td>\n",
       "      <td>0.668310</td>\n",
       "      <td>0.450698</td>\n",
       "      <td>0.601136</td>\n",
       "      <td>0.619292</td>\n",
       "      <td>0.568610</td>\n",
       "      <td>0.912027</td>\n",
       "      <td>0.598462</td>\n",
       "      <td>0.418864</td>\n",
       "    </tr>\n",
       "    <tr>\n",
       "      <th>1</th>\n",
       "      <td>0.643144</td>\n",
       "      <td>0.272574</td>\n",
       "      <td>0.615783</td>\n",
       "      <td>0.501591</td>\n",
       "      <td>0.289880</td>\n",
       "      <td>0.181768</td>\n",
       "      <td>0.203608</td>\n",
       "      <td>0.348757</td>\n",
       "      <td>0.379798</td>\n",
       "      <td>0.141323</td>\n",
       "      <td>...</td>\n",
       "      <td>0.606901</td>\n",
       "      <td>0.303571</td>\n",
       "      <td>0.539818</td>\n",
       "      <td>0.435214</td>\n",
       "      <td>0.347553</td>\n",
       "      <td>0.154563</td>\n",
       "      <td>0.192971</td>\n",
       "      <td>0.639175</td>\n",
       "      <td>0.233590</td>\n",
       "      <td>0.222878</td>\n",
       "    </tr>\n",
       "    <tr>\n",
       "      <th>2</th>\n",
       "      <td>0.601496</td>\n",
       "      <td>0.390260</td>\n",
       "      <td>0.595743</td>\n",
       "      <td>0.449417</td>\n",
       "      <td>0.514309</td>\n",
       "      <td>0.431017</td>\n",
       "      <td>0.462512</td>\n",
       "      <td>0.635686</td>\n",
       "      <td>0.509596</td>\n",
       "      <td>0.211247</td>\n",
       "      <td>...</td>\n",
       "      <td>0.556386</td>\n",
       "      <td>0.360075</td>\n",
       "      <td>0.508442</td>\n",
       "      <td>0.374508</td>\n",
       "      <td>0.483590</td>\n",
       "      <td>0.385375</td>\n",
       "      <td>0.359744</td>\n",
       "      <td>0.835052</td>\n",
       "      <td>0.403706</td>\n",
       "      <td>0.213433</td>\n",
       "    </tr>\n",
       "    <tr>\n",
       "      <th>3</th>\n",
       "      <td>0.210090</td>\n",
       "      <td>0.360839</td>\n",
       "      <td>0.233501</td>\n",
       "      <td>0.102906</td>\n",
       "      <td>0.811321</td>\n",
       "      <td>0.811361</td>\n",
       "      <td>0.565604</td>\n",
       "      <td>0.522863</td>\n",
       "      <td>0.776263</td>\n",
       "      <td>1.000000</td>\n",
       "      <td>...</td>\n",
       "      <td>0.248310</td>\n",
       "      <td>0.385928</td>\n",
       "      <td>0.241347</td>\n",
       "      <td>0.094008</td>\n",
       "      <td>0.915472</td>\n",
       "      <td>0.814012</td>\n",
       "      <td>0.548642</td>\n",
       "      <td>0.884880</td>\n",
       "      <td>1.000000</td>\n",
       "      <td>0.773711</td>\n",
       "    </tr>\n",
       "    <tr>\n",
       "      <th>4</th>\n",
       "      <td>0.629893</td>\n",
       "      <td>0.156578</td>\n",
       "      <td>0.630986</td>\n",
       "      <td>0.489290</td>\n",
       "      <td>0.430351</td>\n",
       "      <td>0.347893</td>\n",
       "      <td>0.463918</td>\n",
       "      <td>0.518390</td>\n",
       "      <td>0.378283</td>\n",
       "      <td>0.186816</td>\n",
       "      <td>...</td>\n",
       "      <td>0.519744</td>\n",
       "      <td>0.123934</td>\n",
       "      <td>0.506948</td>\n",
       "      <td>0.341575</td>\n",
       "      <td>0.437364</td>\n",
       "      <td>0.172415</td>\n",
       "      <td>0.319489</td>\n",
       "      <td>0.558419</td>\n",
       "      <td>0.157500</td>\n",
       "      <td>0.142595</td>\n",
       "    </tr>\n",
       "  </tbody>\n",
       "</table>\n",
       "<p>5 rows × 30 columns</p>\n",
       "</div>"
      ],
      "text/plain": [
       "   radius_mean  texture_mean  perimeter_mean  area_mean  smoothness_mean  \\\n",
       "0     0.521037      0.022658        0.545989   0.363733         0.593753   \n",
       "1     0.643144      0.272574        0.615783   0.501591         0.289880   \n",
       "2     0.601496      0.390260        0.595743   0.449417         0.514309   \n",
       "3     0.210090      0.360839        0.233501   0.102906         0.811321   \n",
       "4     0.629893      0.156578        0.630986   0.489290         0.430351   \n",
       "\n",
       "   compactness_mean  concavity_mean  concave points_mean  symmetry_mean  \\\n",
       "0          0.792037        0.703140             0.731113       0.686364   \n",
       "1          0.181768        0.203608             0.348757       0.379798   \n",
       "2          0.431017        0.462512             0.635686       0.509596   \n",
       "3          0.811361        0.565604             0.522863       0.776263   \n",
       "4          0.347893        0.463918             0.518390       0.378283   \n",
       "\n",
       "   fractal_dimension_mean  ...  radius_worst  texture_worst  perimeter_worst  \\\n",
       "0                0.605518  ...      0.620776       0.141525         0.668310   \n",
       "1                0.141323  ...      0.606901       0.303571         0.539818   \n",
       "2                0.211247  ...      0.556386       0.360075         0.508442   \n",
       "3                1.000000  ...      0.248310       0.385928         0.241347   \n",
       "4                0.186816  ...      0.519744       0.123934         0.506948   \n",
       "\n",
       "   area_worst  smoothness_worst  compactness_worst  concavity_worst  \\\n",
       "0    0.450698          0.601136           0.619292         0.568610   \n",
       "1    0.435214          0.347553           0.154563         0.192971   \n",
       "2    0.374508          0.483590           0.385375         0.359744   \n",
       "3    0.094008          0.915472           0.814012         0.548642   \n",
       "4    0.341575          0.437364           0.172415         0.319489   \n",
       "\n",
       "   concave points_worst  symmetry_worst  fractal_dimension_worst  \n",
       "0              0.912027        0.598462                 0.418864  \n",
       "1              0.639175        0.233590                 0.222878  \n",
       "2              0.835052        0.403706                 0.213433  \n",
       "3              0.884880        1.000000                 0.773711  \n",
       "4              0.558419        0.157500                 0.142595  \n",
       "\n",
       "[5 rows x 30 columns]"
      ]
     },
     "execution_count": 9,
     "metadata": {},
     "output_type": "execute_result"
    }
   ],
   "source": [
    "# do the rescaling and assign to dataframe\n",
    "scaler = MinMaxScaler()\n",
    "scaler.fit(df_to_rescale)\n",
    "X_scaled = pd.DataFrame(scaler.transform(df_to_rescale))\n",
    "X_scaled.columns = df_to_rescale.columns\n",
    "\n",
    "#take a look at the rescaled data\n",
    "print(X_scaled.shape)\n",
    "X_scaled.head()"
   ]
  },
  {
   "cell_type": "markdown",
   "metadata": {},
   "source": [
    "# Train-Test Split\n",
    "\n",
    "Just like other Machine Learning approaches we first do a train test split (and do not look at or use our test data until we are ready!)."
   ]
  },
  {
   "cell_type": "code",
   "execution_count": 10,
   "metadata": {},
   "outputs": [],
   "source": [
    "from sklearn.model_selection import train_test_split"
   ]
  },
  {
   "cell_type": "code",
   "execution_count": 11,
   "metadata": {},
   "outputs": [],
   "source": [
    "#setting random_state means we always get the same split\n",
    "X_train, X_test, y_train, y_test \\\n",
    "    = train_test_split(X_scaled.to_numpy(), y.to_numpy(), \n",
    "                       test_size=0.20, \n",
    "                       random_state=42)"
   ]
  },
  {
   "cell_type": "code",
   "execution_count": 12,
   "metadata": {},
   "outputs": [
    {
     "name": "stdout",
     "output_type": "stream",
     "text": [
      "(455, 30)\n",
      "(114, 30)\n"
     ]
    }
   ],
   "source": [
    "print(X_train.shape)\n",
    "print(X_test.shape)"
   ]
  },
  {
   "cell_type": "code",
   "execution_count": 13,
   "metadata": {},
   "outputs": [
    {
     "data": {
      "text/plain": [
       "0.37142857142857144"
      ]
     },
     "execution_count": 13,
     "metadata": {},
     "output_type": "execute_result"
    }
   ],
   "source": [
    "#simple model if you classify everything as 1 \n",
    "y_train.mean()"
   ]
  },
  {
   "cell_type": "markdown",
   "metadata": {},
   "source": [
    "## Sequential layers and activation functions\n",
    "\n",
    "Feedforward neural networks accept a vector of quantitative values as input and pass this through a sequence of fully connected layers (all neurons are connected to each other).  Each neuron in a layer recieves input from all of the neurons in the previous layer. The neuron weights the input vector, adds bias and then passes it through an activation function. In a hidden layer, for example, you could use a Rectified Linear Unit (ReLU; $f(x) = \\max\\left(0, x\\right)$).  \n",
    "\n",
    "The final layer is an **output** layer.  The thrombolysis example is a binary classification so the output layer is a fully connected layer with a single neuron.  You will need to use a `sigmoid` activation function to provide a probability of recieving thromboysis between 0.0 and 1.0.\n",
    "\n",
    "For feedforward networks, `Keras` provides simple classes to help you construct your model."
   ]
  },
  {
   "cell_type": "code",
   "execution_count": 14,
   "metadata": {},
   "outputs": [],
   "source": [
    "#a model consisting of a sequential set of layers\n",
    "from tensorflow.keras.models import Sequential\n",
    "\n",
    "#a fully connected layer, an input layer\n",
    "from tensorflow.keras.layers import Dense, Input"
   ]
  },
  {
   "cell_type": "code",
   "execution_count": 15,
   "metadata": {},
   "outputs": [
    {
     "name": "stdout",
     "output_type": "stream",
     "text": [
      "Model: \"breast_cancer_nn\"\n",
      "_________________________________________________________________\n",
      "Layer (type)                 Output Shape              Param #   \n",
      "=================================================================\n",
      "dense (Dense)                (None, 10)                310       \n",
      "_________________________________________________________________\n",
      "dense_1 (Dense)              (None, 10)                110       \n",
      "_________________________________________________________________\n",
      "dense_2 (Dense)              (None, 1)                 11        \n",
      "=================================================================\n",
      "Total params: 431\n",
      "Trainable params: 431\n",
      "Non-trainable params: 0\n",
      "_________________________________________________________________\n"
     ]
    }
   ],
   "source": [
    "#The first input\n",
    "model = Sequential(name='breast_cancer_nn')\n",
    "\n",
    "#input layer shape = (no. features, )\n",
    "model.add(Input(shape=(X_train.shape[1],)))\n",
    "\n",
    "#hidden layer 1: relu: f(x) = max(0, x)\n",
    "model.add(Dense(units=10, activation='relu'))\n",
    "\n",
    "#hidden layer 2\n",
    "model.add(Dense(units=10, activation='relu'))\n",
    "\n",
    "#output layer\n",
    "model.add(Dense(units=1, activation='sigmoid'))\n",
    "\n",
    "#summay includeing number of trainable parameters\n",
    "model.summary()\n",
    "          "
   ]
  },
  {
   "cell_type": "markdown",
   "metadata": {},
   "source": [
    "## Training a network\n",
    "\n",
    "For each neuron you can think of the weights as the **strength** of the neuron's **connections** to all of the neurons in the **previous layer**.  The network is initialised with these weights set to **random** values.  The purpose of training is therefore to find the 'best' weights for your prediction problem.   \n",
    "\n",
    "In this context, 'best' means the weights that minimise the training **loss** (sometimes called **cost** or **error**).  Loss is a measure of model fit i.e. a metric quantifying the difference between the predictions from the model and the ground truth observations. For classification models, you will use **Binary Cross-Entropy**.  For each training example, this measure simply takes the -log of the probability the model assigned to the correct label and then averages across all samples.  Or more formally, $$-\\dfrac{1}{N} \\sum_{i=1}^N y_i \\cdot log(p(y_i)) + (1 - y_i) \\cdot log(1 - p(y_i))$$ \n",
    "\n",
    "where $y$ is the 0/1 label and $p(y_i)$ is the probability (0 to 1) assigned to predicting label $i$.  \n",
    "\n",
    "> Note that in a regression model, you would use a loss metric such as **Mean Absolute Error** or **Mean Squared Error**."
   ]
  },
  {
   "cell_type": "code",
   "execution_count": 16,
   "metadata": {},
   "outputs": [
    {
     "data": {
      "text/plain": [
       "array([2.30258509, 1.60943791, 0.22314355, 0.01005034])"
      ]
     },
     "execution_count": 16,
     "metadata": {},
     "output_type": "execute_result"
    }
   ],
   "source": [
    "cost = [0.1, 0.2, 0.8, 0.99]\n",
    "-np.log(cost)"
   ]
  },
  {
   "cell_type": "markdown",
   "metadata": {},
   "source": [
    "### Stochastic Gradient Descent and Backpropagation\n",
    "\n",
    "Think of finding the best weights for your model as a large scale optimisation problem. Even in the simple first model we created there were 400+ parameters to optimise! To minimise these weights an algorithm is needed to estimate the gradient of the loss function and taking a **step** to gradually **decend** it into a local optima. \n",
    "\n",
    "<img src=\"gradient1.png\" alt=\"drawing\" width=\"500\"/>\n",
    "\n",
    "Finding these local optima is achieved using the **backpropagation algorithm** and **stochastic gradient descent**.  After pushing a training sample through our binary classification network we get a single probability of the patient having cancer. We also have the ground truth value labelling if the patient has a malignant tumor or not. Starting from the networks output layer, backprop works backward through each layer of the network to find the weights and biases that correctly classify the patient. This is repeated for all of the training data and the average of these values is the gradient of the loss function with respect to each weight. Repeated enough times the networks weights will converge on solution that minimises the loss. \n",
    "\n",
    "<img src=\"iteration.png\" alt=\"drawing\" width=\"400\"/>\n",
    "\n",
    "For large networks and datasets this is computationally expensive (and possibly infeasible) to run backpropagation against every training sample individually. Therefore we use **stochastic gradient decent (SGD)** to estimate the gradient.  The gradient is estimated by averaging results after breaking the dataset into random **mini-batches** (subsets). This reduces number of computations needed by a substantial amount (and makes large problems tractible).  \n",
    "\n",
    "<img src=\"yanlcun.png\" alt=\"drawing\" width=\"600\"/>\n",
    "\n",
    "The size of the step taken at each iteration is called the **learning rate**. It is used to subtract a fraction of the gradient from the current weights. The learning rate is a hyperparameter and may need tuning.  A tyical starting point is to try powers of 10; for example, 0.1, 0.01, 0.001.  A larger step means that you can descend more quickly!  The downside is that you might overshoot the minimum!  \n",
    "\n",
    "In practice, SGD is not quite so simple and there are a few other concepts and optimisations procedures to appreciate.  The first is that it useful to tweak SGD to have **momentum**. The modification adds a fraction (typically 0.9) of the previous update to weights. The second is adapative learning rates. This comes in different flavours from a simple reduction in learning rate over time to varying the learning rate by parameter.  Both momentum and adaptive learning rates help SGD converge more efficiently.\n",
    "\n",
    "<img src=\"overshoot.png\" alt=\"drawing\" width=\"400\"/>\n",
    "\n",
    "\n",
    "\n",
    "### Training in Keras\n",
    "\n",
    "In Keras, the complexity described above is hidden and you simply **compile** a model and choose an `optimizer` and `loss` function.  You then call the model's `fit` method and pass in the training data, mini batch size (32 is the default) and the number of **epochs** to run.  An epoch is a single pass through all of the training data.  If, for example, there are 1000 points and you are using a mini-batchs of 100 then there are 10 iterations within a single epoch.  You need to run multiple epochs for the network to descend the loss function.\n",
    "\n",
    "I recommend you choose the Adam optimiser.  This is the most popular version of stochastic gradient descent since about 2015.  "
   ]
  },
  {
   "cell_type": "code",
   "execution_count": 17,
   "metadata": {},
   "outputs": [],
   "source": [
    "#set the optimizer, loss function and also report classification accuracy\n",
    "model.compile(optimizer='adam',\n",
    "              loss='binary_crossentropy',\n",
    "              metrics=['accuracy'])\n",
    "\n",
    "#fit the model and include a validation split to check for overfitting. \n",
    "results = model.fit(x=X_train, \n",
    "                    y=y_train, \n",
    "                    batch_size=32,\n",
    "                    validation_split=0.10, \n",
    "                    epochs=200, \n",
    "                    verbose=0)"
   ]
  },
  {
   "cell_type": "code",
   "execution_count": 18,
   "metadata": {},
   "outputs": [],
   "source": [
    "def plot_loss(results):\n",
    "    '''\n",
    "    Two charts 1.) train versus validation loss and 2.) accuracy\n",
    "    '''\n",
    "    fig, ax = plt.subplots(2, 1, figsize=(12,6))\n",
    "    ax[0].plot(results.history['loss'])\n",
    "    ax[0].plot(results.history['val_loss'])\n",
    "    ax[0].legend(['loss', 'val_loss'])\n",
    "    ax[1].plot(results.history['accuracy'])\n",
    "    ax[1].plot(results.history['val_accuracy'])\n",
    "    ax[1].legend(['accurracy', 'val accurracy'])"
   ]
  },
  {
   "cell_type": "code",
   "execution_count": 19,
   "metadata": {},
   "outputs": [
    {
     "data": {
      "image/png": "[encoded data removed]",
      "text/plain": [
       "<Figure size 864x432 with 2 Axes>"
      ]
     },
     "metadata": {
      "needs_background": "light"
     },
     "output_type": "display_data"
    }
   ],
   "source": [
    "plot_loss(results)"
   ]
  },
  {
   "cell_type": "markdown",
   "metadata": {},
   "source": [
    "# Overfitting\n",
    "\n",
    "Given enough capacity, neural networks will overfit to your training data.  Models that are overfitted have highly variable performance when used for prediction.  Keras provides a couple of simple mechanisms to reduce overfitting: **dropout layers** and **early stopping callbacks**.\n"
   ]
  },
  {
   "cell_type": "code",
   "execution_count": 20,
   "metadata": {},
   "outputs": [],
   "source": [
    "from tensorflow.keras.callbacks import EarlyStopping\n",
    "from tensorflow.keras.layers import Dropout"
   ]
  },
  {
   "cell_type": "code",
   "execution_count": 21,
   "metadata": {},
   "outputs": [],
   "source": [
    "def get_model(input_size, n_hidden=2, n_neurons=10, activation='relu', \n",
    "              dropout=False, d_rate=0.2):\n",
    "    '''\n",
    "    Create a simple Keras feedforward model.\n",
    "    '''\n",
    "    #The first input\n",
    "    model = Sequential(name='breast_cancer_nn')\n",
    "\n",
    "    #input layer.\n",
    "    model.add(Input(shape=(input_size,)))\n",
    "\n",
    "    for i in range(n_hidden):\n",
    "        #hidden layer 1 \n",
    "        model.add(Dense(units=n_neurons, activation=activation))\n",
    "        #include a dropout layer\n",
    "        if dropout:\n",
    "            model.add(Dropout(d_rate))\n",
    "    \n",
    "    #output layer\n",
    "    model.add(Dense(units=1, activation='sigmoid'))\n",
    "    \n",
    "    return model"
   ]
  },
  {
   "cell_type": "code",
   "execution_count": 83,
   "metadata": {},
   "outputs": [
    {
     "name": "stdout",
     "output_type": "stream",
     "text": [
      "Model: \"breast_cancer_nn\"\n",
      "_________________________________________________________________\n",
      "Layer (type)                 Output Shape              Param #   \n",
      "=================================================================\n",
      "dense_7 (Dense)              (None, 32)                992       \n",
      "_________________________________________________________________\n",
      "dropout (Dropout)            (None, 32)                0         \n",
      "_________________________________________________________________\n",
      "dense_8 (Dense)              (None, 32)                1056      \n",
      "_________________________________________________________________\n",
      "dropout_1 (Dropout)          (None, 32)                0         \n",
      "_________________________________________________________________\n",
      "dense_9 (Dense)              (None, 32)                1056      \n",
      "_________________________________________________________________\n",
      "dropout_2 (Dropout)          (None, 32)                0         \n",
      "_________________________________________________________________\n",
      "dense_10 (Dense)             (None, 1)                 33        \n",
      "=================================================================\n",
      "Total params: 3,137\n",
      "Trainable params: 3,137\n",
      "Non-trainable params: 0\n",
      "_________________________________________________________________\n",
      "None\n",
      "Train on 409 samples, validate on 46 samples\n",
      "Epoch 1/200\n",
      "409/409 [==============================] - 1s 2ms/sample - loss: 0.6882 - accuracy: 0.5868 - val_loss: 0.6679 - val_accuracy: 0.8043\n",
      "Epoch 2/200\n",
      "409/409 [==============================] - 0s 283us/sample - loss: 0.6659 - accuracy: 0.7115 - val_loss: 0.6444 - val_accuracy: 0.8261\n",
      "Epoch 3/200\n",
      "409/409 [==============================] - 0s 248us/sample - loss: 0.6497 - accuracy: 0.7262 - val_loss: 0.6091 - val_accuracy: 0.8261\n",
      "Epoch 4/200\n",
      "409/409 [==============================] - 0s 242us/sample - loss: 0.6038 - accuracy: 0.7922 - val_loss: 0.5608 - val_accuracy: 0.8478\n",
      "Epoch 5/200\n",
      "409/409 [==============================] - 0s 181us/sample - loss: 0.5654 - accuracy: 0.8240 - val_loss: 0.4951 - val_accuracy: 0.8478\n",
      "Epoch 6/200\n",
      "409/409 [==============================] - 0s 225us/sample - loss: 0.5144 - accuracy: 0.8386 - val_loss: 0.4281 - val_accuracy: 0.8696\n",
      "Epoch 7/200\n",
      "409/409 [==============================] - 0s 337us/sample - loss: 0.4527 - accuracy: 0.8435 - val_loss: 0.3564 - val_accuracy: 0.9130\n",
      "Epoch 8/200\n",
      "409/409 [==============================] - 0s 219us/sample - loss: 0.3871 - accuracy: 0.8411 - val_loss: 0.2980 - val_accuracy: 0.8913\n",
      "Epoch 9/200\n",
      "409/409 [==============================] - 0s 148us/sample - loss: 0.3323 - accuracy: 0.8778 - val_loss: 0.2535 - val_accuracy: 0.8913\n",
      "Epoch 10/200\n",
      "409/409 [==============================] - 0s 197us/sample - loss: 0.3043 - accuracy: 0.8826 - val_loss: 0.2296 - val_accuracy: 0.8913\n",
      "Epoch 11/200\n",
      "409/409 [==============================] - 0s 231us/sample - loss: 0.2616 - accuracy: 0.9071 - val_loss: 0.2126 - val_accuracy: 0.8696\n",
      "Epoch 12/200\n",
      "409/409 [==============================] - 0s 475us/sample - loss: 0.2577 - accuracy: 0.8924 - val_loss: 0.2029 - val_accuracy: 0.9130\n",
      "Epoch 13/200\n",
      "409/409 [==============================] - 0s 308us/sample - loss: 0.2254 - accuracy: 0.9169 - val_loss: 0.1911 - val_accuracy: 0.8696\n",
      "Epoch 14/200\n",
      "409/409 [==============================] - 0s 290us/sample - loss: 0.2271 - accuracy: 0.9046 - val_loss: 0.1801 - val_accuracy: 0.9130\n",
      "Epoch 15/200\n",
      "409/409 [==============================] - 0s 295us/sample - loss: 0.1778 - accuracy: 0.9389 - val_loss: 0.1678 - val_accuracy: 0.8913\n",
      "Epoch 16/200\n",
      "409/409 [==============================] - 0s 208us/sample - loss: 0.2136 - accuracy: 0.9193 - val_loss: 0.1585 - val_accuracy: 0.9130\n",
      "Epoch 17/200\n",
      "409/409 [==============================] - 0s 264us/sample - loss: 0.1625 - accuracy: 0.9462 - val_loss: 0.1502 - val_accuracy: 0.8913\n",
      "Epoch 18/200\n",
      "409/409 [==============================] - 0s 235us/sample - loss: 0.1609 - accuracy: 0.9438 - val_loss: 0.1425 - val_accuracy: 0.9130\n",
      "Epoch 19/200\n",
      "409/409 [==============================] - 0s 247us/sample - loss: 0.1842 - accuracy: 0.9291 - val_loss: 0.1371 - val_accuracy: 0.9348\n",
      "Epoch 20/200\n",
      "409/409 [==============================] - 0s 287us/sample - loss: 0.1385 - accuracy: 0.9462 - val_loss: 0.1300 - val_accuracy: 0.9348\n",
      "Epoch 21/200\n",
      "409/409 [==============================] - 0s 179us/sample - loss: 0.1512 - accuracy: 0.9511 - val_loss: 0.1271 - val_accuracy: 0.9348\n",
      "Epoch 22/200\n",
      "409/409 [==============================] - 0s 214us/sample - loss: 0.1381 - accuracy: 0.9560 - val_loss: 0.1350 - val_accuracy: 0.9348\n",
      "Epoch 23/200\n",
      "409/409 [==============================] - 0s 245us/sample - loss: 0.1294 - accuracy: 0.9511 - val_loss: 0.1480 - val_accuracy: 0.9130\n",
      "Epoch 24/200\n",
      "409/409 [==============================] - 0s 249us/sample - loss: 0.1373 - accuracy: 0.9389 - val_loss: 0.1129 - val_accuracy: 0.9565\n",
      "Epoch 25/200\n",
      "409/409 [==============================] - 0s 262us/sample - loss: 0.1081 - accuracy: 0.9682 - val_loss: 0.1099 - val_accuracy: 0.9565\n",
      "Epoch 26/200\n",
      "409/409 [==============================] - 0s 274us/sample - loss: 0.1394 - accuracy: 0.9462 - val_loss: 0.1069 - val_accuracy: 0.9565\n",
      "Epoch 27/200\n",
      "409/409 [==============================] - 0s 350us/sample - loss: 0.1084 - accuracy: 0.9707 - val_loss: 0.1033 - val_accuracy: 0.9565\n",
      "Epoch 28/200\n",
      "409/409 [==============================] - 0s 301us/sample - loss: 0.1209 - accuracy: 0.9609 - val_loss: 0.1035 - val_accuracy: 0.9565\n",
      "Epoch 29/200\n",
      "409/409 [==============================] - 0s 178us/sample - loss: 0.1307 - accuracy: 0.9487 - val_loss: 0.1032 - val_accuracy: 0.9565\n",
      "Epoch 30/200\n",
      "409/409 [==============================] - 0s 149us/sample - loss: 0.1038 - accuracy: 0.9658 - val_loss: 0.0974 - val_accuracy: 0.9565\n",
      "Epoch 31/200\n",
      "409/409 [==============================] - 0s 206us/sample - loss: 0.1225 - accuracy: 0.9633 - val_loss: 0.0932 - val_accuracy: 0.9565\n",
      "Epoch 32/200\n",
      "409/409 [==============================] - 0s 137us/sample - loss: 0.1214 - accuracy: 0.9658 - val_loss: 0.0909 - val_accuracy: 0.9783\n",
      "Epoch 33/200\n",
      "409/409 [==============================] - 0s 203us/sample - loss: 0.1243 - accuracy: 0.9584 - val_loss: 0.1000 - val_accuracy: 0.9565\n",
      "Epoch 34/200\n",
      "409/409 [==============================] - 0s 211us/sample - loss: 0.1132 - accuracy: 0.9658 - val_loss: 0.0915 - val_accuracy: 0.9565\n",
      "Epoch 35/200\n",
      "409/409 [==============================] - 0s 223us/sample - loss: 0.1116 - accuracy: 0.9584 - val_loss: 0.0918 - val_accuracy: 0.9783\n",
      "Epoch 36/200\n",
      "409/409 [==============================] - 0s 329us/sample - loss: 0.0880 - accuracy: 0.9707 - val_loss: 0.0964 - val_accuracy: 0.9348\n",
      "Epoch 37/200\n",
      "409/409 [==============================] - 0s 191us/sample - loss: 0.0889 - accuracy: 0.9682 - val_loss: 0.0876 - val_accuracy: 0.9783\n",
      "Epoch 38/200\n",
      "409/409 [==============================] - 0s 173us/sample - loss: 0.0937 - accuracy: 0.9707 - val_loss: 0.0946 - val_accuracy: 0.9565\n",
      "Epoch 39/200\n",
      "409/409 [==============================] - 0s 174us/sample - loss: 0.0908 - accuracy: 0.9658 - val_loss: 0.0897 - val_accuracy: 0.9348\n",
      "Epoch 40/200\n",
      "409/409 [==============================] - 0s 123us/sample - loss: 0.0789 - accuracy: 0.9804 - val_loss: 0.0853 - val_accuracy: 0.9565\n",
      "Epoch 41/200\n",
      "409/409 [==============================] - 0s 167us/sample - loss: 0.0912 - accuracy: 0.9609 - val_loss: 0.0860 - val_accuracy: 0.9565\n",
      "Epoch 42/200\n",
      "409/409 [==============================] - 0s 289us/sample - loss: 0.0794 - accuracy: 0.9804 - val_loss: 0.0826 - val_accuracy: 0.9565\n",
      "Epoch 43/200\n",
      "409/409 [==============================] - 0s 312us/sample - loss: 0.0809 - accuracy: 0.9707 - val_loss: 0.0818 - val_accuracy: 0.9565\n",
      "Epoch 44/200\n",
      "409/409 [==============================] - 0s 253us/sample - loss: 0.0897 - accuracy: 0.9707 - val_loss: 0.0826 - val_accuracy: 0.9565\n",
      "Epoch 45/200\n",
      "409/409 [==============================] - 0s 361us/sample - loss: 0.0856 - accuracy: 0.9731 - val_loss: 0.0777 - val_accuracy: 1.0000\n",
      "Epoch 46/200\n",
      "409/409 [==============================] - 0s 301us/sample - loss: 0.0837 - accuracy: 0.9682 - val_loss: 0.0881 - val_accuracy: 0.9565\n",
      "Epoch 47/200\n",
      "409/409 [==============================] - 0s 197us/sample - loss: 0.0834 - accuracy: 0.9731 - val_loss: 0.0766 - val_accuracy: 0.9783\n",
      "Epoch 48/200\n",
      "409/409 [==============================] - 0s 194us/sample - loss: 0.0755 - accuracy: 0.9853 - val_loss: 0.0823 - val_accuracy: 0.9565\n",
      "Epoch 49/200\n",
      "409/409 [==============================] - 0s 191us/sample - loss: 0.0667 - accuracy: 0.9780 - val_loss: 0.0813 - val_accuracy: 0.9565\n",
      "Epoch 50/200\n",
      "409/409 [==============================] - 0s 196us/sample - loss: 0.0857 - accuracy: 0.9658 - val_loss: 0.0813 - val_accuracy: 0.9565\n",
      "Epoch 51/200\n",
      "409/409 [==============================] - 0s 151us/sample - loss: 0.0830 - accuracy: 0.9682 - val_loss: 0.0785 - val_accuracy: 0.9565\n",
      "Epoch 52/200\n",
      "409/409 [==============================] - 0s 122us/sample - loss: 0.0732 - accuracy: 0.9731 - val_loss: 0.0785 - val_accuracy: 0.9783\n",
      "Epoch 53/200\n",
      "409/409 [==============================] - 0s 199us/sample - loss: 0.0700 - accuracy: 0.9804 - val_loss: 0.0876 - val_accuracy: 0.9348\n",
      "Epoch 54/200\n",
      "409/409 [==============================] - 0s 170us/sample - loss: 0.0638 - accuracy: 0.9804 - val_loss: 0.0881 - val_accuracy: 0.9565\n",
      "Epoch 55/200\n",
      "409/409 [==============================] - 0s 155us/sample - loss: 0.0724 - accuracy: 0.9756 - val_loss: 0.0857 - val_accuracy: 0.9348\n",
      "Epoch 56/200\n",
      "409/409 [==============================] - 0s 156us/sample - loss: 0.0673 - accuracy: 0.9829 - val_loss: 0.0954 - val_accuracy: 0.9565\n",
      "Epoch 57/200\n",
      "409/409 [==============================] - 0s 160us/sample - loss: 0.0649 - accuracy: 0.9707 - val_loss: 0.0920 - val_accuracy: 0.9348\n",
      "Epoch 58/200\n",
      "409/409 [==============================] - 0s 163us/sample - loss: 0.0710 - accuracy: 0.9804 - val_loss: 0.0765 - val_accuracy: 0.9783\n",
      "Epoch 59/200\n",
      "409/409 [==============================] - 0s 283us/sample - loss: 0.0853 - accuracy: 0.9731 - val_loss: 0.0803 - val_accuracy: 0.9783\n",
      "Epoch 60/200\n",
      "409/409 [==============================] - 0s 228us/sample - loss: 0.0792 - accuracy: 0.9780 - val_loss: 0.0841 - val_accuracy: 0.9565\n",
      "Epoch 61/200\n",
      "409/409 [==============================] - 0s 218us/sample - loss: 0.0714 - accuracy: 0.9804 - val_loss: 0.0828 - val_accuracy: 0.9565\n",
      "Epoch 62/200\n",
      "409/409 [==============================] - 0s 138us/sample - loss: 0.0541 - accuracy: 0.9878 - val_loss: 0.0837 - val_accuracy: 0.9565\n",
      "Epoch 63/200\n",
      "409/409 [==============================] - 0s 234us/sample - loss: 0.0587 - accuracy: 0.9804 - val_loss: 0.0848 - val_accuracy: 0.9565\n",
      "Epoch 64/200\n",
      "409/409 [==============================] - 0s 197us/sample - loss: 0.0605 - accuracy: 0.9853 - val_loss: 0.0875 - val_accuracy: 0.9565\n",
      "Epoch 65/200\n",
      "409/409 [==============================] - 0s 311us/sample - loss: 0.0648 - accuracy: 0.9756 - val_loss: 0.0902 - val_accuracy: 0.9565\n",
      "Epoch 66/200\n",
      "409/409 [==============================] - 0s 198us/sample - loss: 0.0562 - accuracy: 0.9804 - val_loss: 0.0907 - val_accuracy: 0.9565\n",
      "Epoch 67/200\n",
      "409/409 [==============================] - 0s 220us/sample - loss: 0.0595 - accuracy: 0.9756 - val_loss: 0.0922 - val_accuracy: 0.9565\n",
      "Epoch 68/200\n",
      "409/409 [==============================] - 0s 210us/sample - loss: 0.0619 - accuracy: 0.9780 - val_loss: 0.0911 - val_accuracy: 0.9565\n",
      "Epoch 69/200\n",
      "409/409 [==============================] - 0s 147us/sample - loss: 0.0474 - accuracy: 0.9902 - val_loss: 0.0915 - val_accuracy: 0.9565\n",
      "Epoch 70/200\n",
      "409/409 [==============================] - 0s 120us/sample - loss: 0.0633 - accuracy: 0.9804 - val_loss: 0.0891 - val_accuracy: 0.9565\n",
      "Epoch 71/200\n",
      "409/409 [==============================] - 0s 183us/sample - loss: 0.0644 - accuracy: 0.9780 - val_loss: 0.0955 - val_accuracy: 0.9348\n",
      "Epoch 72/200\n",
      "409/409 [==============================] - 0s 227us/sample - loss: 0.0641 - accuracy: 0.9878 - val_loss: 0.0804 - val_accuracy: 0.9783\n",
      "Epoch 73/200\n",
      "409/409 [==============================] - 0s 345us/sample - loss: 0.0621 - accuracy: 0.9780 - val_loss: 0.0847 - val_accuracy: 0.9565\n",
      "Epoch 74/200\n",
      "409/409 [==============================] - 0s 223us/sample - loss: 0.0619 - accuracy: 0.9780 - val_loss: 0.0894 - val_accuracy: 0.9348\n",
      "Epoch 75/200\n",
      "409/409 [==============================] - 0s 215us/sample - loss: 0.0606 - accuracy: 0.9829 - val_loss: 0.0876 - val_accuracy: 0.9565\n",
      "Epoch 76/200\n",
      "409/409 [==============================] - 0s 197us/sample - loss: 0.0481 - accuracy: 0.9853 - val_loss: 0.0936 - val_accuracy: 0.9348\n",
      "Epoch 77/200\n",
      "409/409 [==============================] - 0s 331us/sample - loss: 0.0669 - accuracy: 0.9756 - val_loss: 0.0930 - val_accuracy: 0.9565\n",
      "Epoch 78/200\n",
      "409/409 [==============================] - 0s 184us/sample - loss: 0.0545 - accuracy: 0.9804 - val_loss: 0.0950 - val_accuracy: 0.9348\n",
      "Epoch 79/200\n",
      "409/409 [==============================] - 0s 234us/sample - loss: 0.0512 - accuracy: 0.9878 - val_loss: 0.0993 - val_accuracy: 0.9348\n",
      "Epoch 80/200\n",
      "409/409 [==============================] - 0s 218us/sample - loss: 0.0603 - accuracy: 0.9731 - val_loss: 0.1050 - val_accuracy: 0.9348\n",
      "Epoch 81/200\n",
      "409/409 [==============================] - 0s 382us/sample - loss: 0.0482 - accuracy: 0.9878 - val_loss: 0.1005 - val_accuracy: 0.9348\n",
      "Epoch 82/200\n",
      "409/409 [==============================] - 0s 352us/sample - loss: 0.0486 - accuracy: 0.9829 - val_loss: 0.0964 - val_accuracy: 0.9565\n",
      "Epoch 83/200\n",
      "409/409 [==============================] - 0s 390us/sample - loss: 0.0510 - accuracy: 0.9853 - val_loss: 0.1231 - val_accuracy: 0.9348\n",
      "Epoch 84/200\n",
      "409/409 [==============================] - 0s 394us/sample - loss: 0.0432 - accuracy: 0.9853 - val_loss: 0.1082 - val_accuracy: 0.9130\n",
      "Epoch 85/200\n",
      "409/409 [==============================] - 0s 262us/sample - loss: 0.0644 - accuracy: 0.9780 - val_loss: 0.1008 - val_accuracy: 0.9348\n",
      "Epoch 86/200\n",
      "409/409 [==============================] - 0s 401us/sample - loss: 0.0371 - accuracy: 0.9853 - val_loss: 0.1054 - val_accuracy: 0.9348\n",
      "Epoch 87/200\n",
      "409/409 [==============================] - 0s 246us/sample - loss: 0.0559 - accuracy: 0.9853 - val_loss: 0.1120 - val_accuracy: 0.9348\n",
      "Epoch 88/200\n",
      "409/409 [==============================] - 0s 318us/sample - loss: 0.0485 - accuracy: 0.9780 - val_loss: 0.1175 - val_accuracy: 0.9348\n",
      "Epoch 89/200\n",
      "409/409 [==============================] - 0s 135us/sample - loss: 0.0534 - accuracy: 0.9853 - val_loss: 0.0979 - val_accuracy: 0.9565\n",
      "Epoch 90/200\n",
      "409/409 [==============================] - 0s 254us/sample - loss: 0.0424 - accuracy: 0.9902 - val_loss: 0.0946 - val_accuracy: 0.9565\n",
      "Epoch 91/200\n",
      "409/409 [==============================] - 0s 319us/sample - loss: 0.0631 - accuracy: 0.9804 - val_loss: 0.0897 - val_accuracy: 0.9565\n",
      "Epoch 92/200\n",
      "409/409 [==============================] - 0s 415us/sample - loss: 0.0377 - accuracy: 0.9902 - val_loss: 0.0878 - val_accuracy: 0.9565\n",
      "Epoch 93/200\n",
      "409/409 [==============================] - 0s 337us/sample - loss: 0.0512 - accuracy: 0.9829 - val_loss: 0.0898 - val_accuracy: 0.9565\n",
      "Epoch 94/200\n",
      "409/409 [==============================] - 0s 170us/sample - loss: 0.0501 - accuracy: 0.9878 - val_loss: 0.0894 - val_accuracy: 0.9565\n",
      "Epoch 95/200\n",
      "409/409 [==============================] - 0s 318us/sample - loss: 0.0491 - accuracy: 0.9829 - val_loss: 0.0893 - val_accuracy: 0.9565\n",
      "Epoch 96/200\n",
      "409/409 [==============================] - 0s 199us/sample - loss: 0.0520 - accuracy: 0.9853 - val_loss: 0.0920 - val_accuracy: 0.9348\n",
      "Epoch 97/200\n",
      "409/409 [==============================] - 0s 186us/sample - loss: 0.0386 - accuracy: 0.9902 - val_loss: 0.0909 - val_accuracy: 0.9565\n",
      "Epoch 98/200\n",
      "409/409 [==============================] - 0s 267us/sample - loss: 0.0382 - accuracy: 0.9927 - val_loss: 0.0851 - val_accuracy: 0.9565\n",
      "Epoch 99/200\n",
      "409/409 [==============================] - 0s 272us/sample - loss: 0.0374 - accuracy: 0.9878 - val_loss: 0.0889 - val_accuracy: 0.9348\n",
      "Epoch 100/200\n",
      "409/409 [==============================] - 0s 115us/sample - loss: 0.0509 - accuracy: 0.9756 - val_loss: 0.0870 - val_accuracy: 0.9565\n",
      "Epoch 101/200\n",
      "409/409 [==============================] - 0s 148us/sample - loss: 0.0554 - accuracy: 0.9780 - val_loss: 0.0878 - val_accuracy: 0.9348\n",
      "Epoch 102/200\n",
      "409/409 [==============================] - 0s 143us/sample - loss: 0.0573 - accuracy: 0.9780 - val_loss: 0.0880 - val_accuracy: 0.9783\n",
      "Epoch 103/200\n",
      "409/409 [==============================] - 0s 173us/sample - loss: 0.0463 - accuracy: 0.9829 - val_loss: 0.1009 - val_accuracy: 0.9565\n",
      "Epoch 104/200\n",
      "409/409 [==============================] - 0s 108us/sample - loss: 0.0371 - accuracy: 0.9878 - val_loss: 0.0889 - val_accuracy: 0.9348\n",
      "Epoch 105/200\n",
      "409/409 [==============================] - 0s 163us/sample - loss: 0.0450 - accuracy: 0.9804 - val_loss: 0.1171 - val_accuracy: 0.9348\n",
      "Epoch 106/200\n",
      "409/409 [==============================] - 0s 107us/sample - loss: 0.0531 - accuracy: 0.9780 - val_loss: 0.1100 - val_accuracy: 0.9348\n",
      "Epoch 107/200\n",
      "409/409 [==============================] - 0s 199us/sample - loss: 0.0522 - accuracy: 0.9829 - val_loss: 0.1045 - val_accuracy: 0.9348\n",
      "Epoch 108/200\n",
      "409/409 [==============================] - 0s 149us/sample - loss: 0.0469 - accuracy: 0.9878 - val_loss: 0.1020 - val_accuracy: 0.9348\n",
      "Epoch 109/200\n",
      "409/409 [==============================] - 0s 152us/sample - loss: 0.0576 - accuracy: 0.9780 - val_loss: 0.1222 - val_accuracy: 0.9348\n",
      "Epoch 110/200\n",
      "409/409 [==============================] - 0s 142us/sample - loss: 0.0459 - accuracy: 0.9853 - val_loss: 0.0866 - val_accuracy: 0.9565\n",
      "Epoch 111/200\n",
      "409/409 [==============================] - 0s 255us/sample - loss: 0.0449 - accuracy: 0.9804 - val_loss: 0.0942 - val_accuracy: 0.9348\n",
      "Epoch 112/200\n",
      "409/409 [==============================] - 0s 117us/sample - loss: 0.0473 - accuracy: 0.9853 - val_loss: 0.0837 - val_accuracy: 0.9565\n",
      "Epoch 113/200\n",
      "409/409 [==============================] - 0s 211us/sample - loss: 0.0623 - accuracy: 0.9756 - val_loss: 0.1040 - val_accuracy: 0.9130\n",
      "Epoch 114/200\n",
      "409/409 [==============================] - 0s 146us/sample - loss: 0.0442 - accuracy: 0.9853 - val_loss: 0.0919 - val_accuracy: 0.9348\n",
      "Epoch 115/200\n",
      "409/409 [==============================] - 0s 138us/sample - loss: 0.0348 - accuracy: 0.9927 - val_loss: 0.0848 - val_accuracy: 0.9565\n",
      "Epoch 116/200\n",
      "409/409 [==============================] - 0s 196us/sample - loss: 0.0405 - accuracy: 0.9780 - val_loss: 0.0906 - val_accuracy: 0.9565\n",
      "Epoch 117/200\n",
      "409/409 [==============================] - 0s 305us/sample - loss: 0.0382 - accuracy: 0.9878 - val_loss: 0.0965 - val_accuracy: 0.9348\n",
      "Epoch 118/200\n",
      "409/409 [==============================] - 0s 295us/sample - loss: 0.0490 - accuracy: 0.9804 - val_loss: 0.0963 - val_accuracy: 0.9348\n",
      "Epoch 119/200\n",
      "409/409 [==============================] - 0s 286us/sample - loss: 0.0431 - accuracy: 0.9902 - val_loss: 0.0945 - val_accuracy: 0.9565\n",
      "Epoch 120/200\n",
      "409/409 [==============================] - 0s 87us/sample - loss: 0.0397 - accuracy: 0.9853 - val_loss: 0.0909 - val_accuracy: 0.9348\n",
      "Epoch 121/200\n",
      "409/409 [==============================] - 0s 185us/sample - loss: 0.0516 - accuracy: 0.9756 - val_loss: 0.0886 - val_accuracy: 0.9348\n",
      "Epoch 122/200\n",
      "409/409 [==============================] - 0s 140us/sample - loss: 0.0399 - accuracy: 0.9902 - val_loss: 0.0826 - val_accuracy: 0.9565\n",
      "Epoch 123/200\n",
      "409/409 [==============================] - 0s 158us/sample - loss: 0.0439 - accuracy: 0.9829 - val_loss: 0.0930 - val_accuracy: 0.9348\n",
      "Epoch 124/200\n",
      "409/409 [==============================] - 0s 192us/sample - loss: 0.0298 - accuracy: 0.9902 - val_loss: 0.1088 - val_accuracy: 0.9348\n",
      "Epoch 125/200\n",
      "409/409 [==============================] - 0s 206us/sample - loss: 0.0441 - accuracy: 0.9853 - val_loss: 0.1130 - val_accuracy: 0.9348\n",
      "Epoch 126/200\n",
      "409/409 [==============================] - 0s 155us/sample - loss: 0.0313 - accuracy: 0.9902 - val_loss: 0.1323 - val_accuracy: 0.9348\n",
      "Epoch 127/200\n",
      "409/409 [==============================] - 0s 486us/sample - loss: 0.0319 - accuracy: 0.9902 - val_loss: 0.1029 - val_accuracy: 0.9348\n",
      "Epoch 128/200\n",
      "409/409 [==============================] - 0s 300us/sample - loss: 0.0417 - accuracy: 0.9878 - val_loss: 0.1090 - val_accuracy: 0.9348\n",
      "Epoch 129/200\n",
      "409/409 [==============================] - 0s 241us/sample - loss: 0.0416 - accuracy: 0.9853 - val_loss: 0.1078 - val_accuracy: 0.9348\n",
      "Epoch 130/200\n",
      "409/409 [==============================] - 0s 325us/sample - loss: 0.0353 - accuracy: 0.9853 - val_loss: 0.0999 - val_accuracy: 0.9348\n",
      "Epoch 131/200\n",
      "409/409 [==============================] - 0s 246us/sample - loss: 0.0350 - accuracy: 0.9878 - val_loss: 0.1199 - val_accuracy: 0.9348\n",
      "Epoch 132/200\n",
      "409/409 [==============================] - 0s 402us/sample - loss: 0.0292 - accuracy: 0.9927 - val_loss: 0.1072 - val_accuracy: 0.9348\n",
      "Epoch 133/200\n",
      "409/409 [==============================] - 0s 166us/sample - loss: 0.0261 - accuracy: 0.9902 - val_loss: 0.1107 - val_accuracy: 0.9565\n",
      "Epoch 134/200\n",
      "409/409 [==============================] - 0s 134us/sample - loss: 0.0264 - accuracy: 0.9902 - val_loss: 0.0855 - val_accuracy: 0.9565\n",
      "Epoch 135/200\n",
      "409/409 [==============================] - 0s 154us/sample - loss: 0.0302 - accuracy: 0.9976 - val_loss: 0.0971 - val_accuracy: 0.9348\n",
      "Epoch 136/200\n",
      "409/409 [==============================] - 0s 162us/sample - loss: 0.0375 - accuracy: 0.9829 - val_loss: 0.0877 - val_accuracy: 0.9783\n",
      "Epoch 137/200\n",
      "409/409 [==============================] - 0s 185us/sample - loss: 0.0337 - accuracy: 0.9878 - val_loss: 0.0742 - val_accuracy: 0.9348\n",
      "Epoch 138/200\n",
      "409/409 [==============================] - 0s 243us/sample - loss: 0.0226 - accuracy: 0.9927 - val_loss: 0.0810 - val_accuracy: 0.9565\n",
      "Epoch 139/200\n",
      "409/409 [==============================] - 0s 217us/sample - loss: 0.0332 - accuracy: 0.9878 - val_loss: 0.0903 - val_accuracy: 0.9348\n",
      "Epoch 140/200\n",
      "409/409 [==============================] - 0s 214us/sample - loss: 0.0385 - accuracy: 0.9902 - val_loss: 0.0780 - val_accuracy: 0.9348\n",
      "Epoch 141/200\n",
      "409/409 [==============================] - 0s 226us/sample - loss: 0.0248 - accuracy: 0.9927 - val_loss: 0.0799 - val_accuracy: 0.9565\n",
      "Epoch 142/200\n",
      "409/409 [==============================] - 0s 162us/sample - loss: 0.0237 - accuracy: 0.9902 - val_loss: 0.0999 - val_accuracy: 0.9348\n",
      "Epoch 143/200\n",
      "409/409 [==============================] - 0s 233us/sample - loss: 0.0293 - accuracy: 0.9927 - val_loss: 0.0959 - val_accuracy: 0.9348\n",
      "Epoch 144/200\n",
      "409/409 [==============================] - 0s 184us/sample - loss: 0.0385 - accuracy: 0.9804 - val_loss: 0.1103 - val_accuracy: 0.9565\n",
      "Epoch 145/200\n",
      "409/409 [==============================] - 0s 173us/sample - loss: 0.0316 - accuracy: 0.9927 - val_loss: 0.1173 - val_accuracy: 0.9348\n",
      "Epoch 146/200\n",
      "409/409 [==============================] - 0s 178us/sample - loss: 0.0271 - accuracy: 0.9902 - val_loss: 0.1051 - val_accuracy: 0.9565\n",
      "Epoch 147/200\n",
      "409/409 [==============================] - 0s 152us/sample - loss: 0.0249 - accuracy: 0.9878 - val_loss: 0.1209 - val_accuracy: 0.9348\n",
      "Epoch 148/200\n",
      "409/409 [==============================] - 0s 408us/sample - loss: 0.0201 - accuracy: 0.9927 - val_loss: 0.1191 - val_accuracy: 0.9348\n",
      "Epoch 149/200\n",
      "409/409 [==============================] - 0s 259us/sample - loss: 0.0260 - accuracy: 0.9902 - val_loss: 0.0988 - val_accuracy: 0.9348\n",
      "Epoch 150/200\n",
      "409/409 [==============================] - 0s 127us/sample - loss: 0.0344 - accuracy: 0.9853 - val_loss: 0.1141 - val_accuracy: 0.9348\n",
      "Epoch 151/200\n",
      "409/409 [==============================] - 0s 188us/sample - loss: 0.0224 - accuracy: 0.9927 - val_loss: 0.1004 - val_accuracy: 0.9348\n",
      "Epoch 152/200\n",
      "409/409 [==============================] - 0s 180us/sample - loss: 0.0427 - accuracy: 0.9878 - val_loss: 0.0954 - val_accuracy: 0.9130\n",
      "Epoch 153/200\n",
      "409/409 [==============================] - 0s 201us/sample - loss: 0.0252 - accuracy: 0.9927 - val_loss: 0.0983 - val_accuracy: 0.9565\n",
      "Epoch 154/200\n",
      "409/409 [==============================] - 0s 131us/sample - loss: 0.0280 - accuracy: 0.9853 - val_loss: 0.0968 - val_accuracy: 0.9348\n",
      "Epoch 155/200\n",
      "409/409 [==============================] - 0s 162us/sample - loss: 0.0227 - accuracy: 0.9976 - val_loss: 0.0995 - val_accuracy: 0.9565\n",
      "Epoch 156/200\n",
      "409/409 [==============================] - 0s 128us/sample - loss: 0.0221 - accuracy: 0.9902 - val_loss: 0.1077 - val_accuracy: 0.9348\n",
      "Epoch 157/200\n",
      "409/409 [==============================] - 0s 182us/sample - loss: 0.0214 - accuracy: 0.9951 - val_loss: 0.0895 - val_accuracy: 0.9348\n",
      "Epoch 158/200\n",
      "409/409 [==============================] - 0s 142us/sample - loss: 0.0253 - accuracy: 0.9878 - val_loss: 0.1086 - val_accuracy: 0.9565\n",
      "Epoch 159/200\n",
      "409/409 [==============================] - 0s 166us/sample - loss: 0.0191 - accuracy: 0.9951 - val_loss: 0.0854 - val_accuracy: 0.9348\n",
      "Epoch 160/200\n",
      "409/409 [==============================] - 0s 152us/sample - loss: 0.0437 - accuracy: 0.9829 - val_loss: 0.0894 - val_accuracy: 0.9348\n",
      "Epoch 161/200\n",
      "409/409 [==============================] - 0s 130us/sample - loss: 0.0236 - accuracy: 0.9927 - val_loss: 0.1148 - val_accuracy: 0.9348\n",
      "Epoch 162/200\n",
      "409/409 [==============================] - 0s 274us/sample - loss: 0.0263 - accuracy: 0.9902 - val_loss: 0.0991 - val_accuracy: 0.9565\n",
      "Epoch 163/200\n",
      "409/409 [==============================] - 0s 154us/sample - loss: 0.0266 - accuracy: 0.9927 - val_loss: 0.1076 - val_accuracy: 0.9565\n",
      "Epoch 164/200\n",
      "409/409 [==============================] - 0s 135us/sample - loss: 0.0442 - accuracy: 0.9878 - val_loss: 0.0752 - val_accuracy: 0.9565\n",
      "Epoch 165/200\n",
      "409/409 [==============================] - 0s 178us/sample - loss: 0.0295 - accuracy: 0.9902 - val_loss: 0.0759 - val_accuracy: 0.9565\n",
      "Epoch 166/200\n",
      "409/409 [==============================] - 0s 184us/sample - loss: 0.0318 - accuracy: 0.9878 - val_loss: 0.0823 - val_accuracy: 0.9130\n",
      "Epoch 167/200\n",
      "409/409 [==============================] - 0s 532us/sample - loss: 0.0321 - accuracy: 0.9878 - val_loss: 0.0782 - val_accuracy: 0.9565\n",
      "Epoch 168/200\n",
      "409/409 [==============================] - 0s 361us/sample - loss: 0.0395 - accuracy: 0.9902 - val_loss: 0.0815 - val_accuracy: 0.9565\n",
      "Epoch 169/200\n",
      "409/409 [==============================] - 0s 233us/sample - loss: 0.0339 - accuracy: 0.9853 - val_loss: 0.0981 - val_accuracy: 0.9348\n",
      "Epoch 170/200\n",
      "409/409 [==============================] - 0s 164us/sample - loss: 0.0329 - accuracy: 0.9853 - val_loss: 0.0833 - val_accuracy: 0.9565\n",
      "Epoch 171/200\n",
      "409/409 [==============================] - 0s 292us/sample - loss: 0.0286 - accuracy: 0.9878 - val_loss: 0.1133 - val_accuracy: 0.9348\n",
      "Epoch 172/200\n",
      "409/409 [==============================] - 0s 440us/sample - loss: 0.0175 - accuracy: 0.9951 - val_loss: 0.0844 - val_accuracy: 0.9565\n",
      "Epoch 173/200\n",
      "409/409 [==============================] - 0s 650us/sample - loss: 0.0151 - accuracy: 0.9951 - val_loss: 0.0971 - val_accuracy: 0.9348\n",
      "Epoch 174/200\n",
      "409/409 [==============================] - 0s 804us/sample - loss: 0.0146 - accuracy: 0.9951 - val_loss: 0.0980 - val_accuracy: 0.9348\n",
      "Epoch 175/200\n",
      "409/409 [==============================] - 0s 215us/sample - loss: 0.0152 - accuracy: 0.9951 - val_loss: 0.1151 - val_accuracy: 0.9348\n",
      "Epoch 176/200\n",
      "409/409 [==============================] - 0s 454us/sample - loss: 0.0231 - accuracy: 0.9927 - val_loss: 0.1130 - val_accuracy: 0.9348\n",
      "Epoch 177/200\n",
      "409/409 [==============================] - 0s 174us/sample - loss: 0.0268 - accuracy: 0.9902 - val_loss: 0.1276 - val_accuracy: 0.9348\n",
      "Epoch 178/200\n",
      "409/409 [==============================] - 0s 232us/sample - loss: 0.0127 - accuracy: 0.9976 - val_loss: 0.1237 - val_accuracy: 0.9348\n",
      "Epoch 179/200\n",
      "409/409 [==============================] - 0s 196us/sample - loss: 0.0348 - accuracy: 0.9902 - val_loss: 0.0911 - val_accuracy: 0.9348\n",
      "Epoch 180/200\n",
      "409/409 [==============================] - 0s 189us/sample - loss: 0.0156 - accuracy: 0.9927 - val_loss: 0.0913 - val_accuracy: 0.9348\n",
      "Epoch 181/200\n",
      "409/409 [==============================] - 0s 297us/sample - loss: 0.0258 - accuracy: 0.9878 - val_loss: 0.0885 - val_accuracy: 0.9565\n",
      "Epoch 182/200\n",
      "409/409 [==============================] - 0s 155us/sample - loss: 0.0179 - accuracy: 0.9951 - val_loss: 0.1058 - val_accuracy: 0.9348\n",
      "Epoch 183/200\n",
      "409/409 [==============================] - 0s 259us/sample - loss: 0.0204 - accuracy: 0.9927 - val_loss: 0.1035 - val_accuracy: 0.9565\n",
      "Epoch 184/200\n",
      "409/409 [==============================] - 0s 328us/sample - loss: 0.0171 - accuracy: 0.9951 - val_loss: 0.1030 - val_accuracy: 0.9348\n",
      "Epoch 185/200\n",
      "409/409 [==============================] - 0s 233us/sample - loss: 0.0159 - accuracy: 0.9927 - val_loss: 0.1074 - val_accuracy: 0.9348\n",
      "Epoch 186/200\n",
      "409/409 [==============================] - 0s 218us/sample - loss: 0.0161 - accuracy: 0.9951 - val_loss: 0.1043 - val_accuracy: 0.9348\n",
      "Epoch 187/200\n",
      "409/409 [==============================] - 0s 197us/sample - loss: 0.0202 - accuracy: 0.9902 - val_loss: 0.0911 - val_accuracy: 0.9348\n",
      "Epoch 188/200\n",
      "409/409 [==============================] - 0s 135us/sample - loss: 0.0323 - accuracy: 0.9878 - val_loss: 0.1144 - val_accuracy: 0.9348\n",
      "Epoch 189/200\n",
      "409/409 [==============================] - 0s 144us/sample - loss: 0.0258 - accuracy: 0.9878 - val_loss: 0.0981 - val_accuracy: 0.9565\n",
      "Epoch 190/200\n",
      "409/409 [==============================] - 0s 264us/sample - loss: 0.0307 - accuracy: 0.9951 - val_loss: 0.0860 - val_accuracy: 0.9565\n",
      "Epoch 191/200\n",
      "409/409 [==============================] - 0s 193us/sample - loss: 0.0207 - accuracy: 0.9902 - val_loss: 0.0711 - val_accuracy: 0.9348\n",
      "Epoch 192/200\n",
      "409/409 [==============================] - 0s 163us/sample - loss: 0.0234 - accuracy: 0.9902 - val_loss: 0.1058 - val_accuracy: 0.9565\n",
      "Epoch 193/200\n",
      "409/409 [==============================] - 0s 500us/sample - loss: 0.0238 - accuracy: 0.9902 - val_loss: 0.0889 - val_accuracy: 0.9348\n",
      "Epoch 194/200\n",
      "409/409 [==============================] - 0s 225us/sample - loss: 0.0239 - accuracy: 0.9902 - val_loss: 0.1643 - val_accuracy: 0.9348\n",
      "Epoch 195/200\n",
      "409/409 [==============================] - 0s 146us/sample - loss: 0.0181 - accuracy: 0.9951 - val_loss: 0.0917 - val_accuracy: 0.9565\n",
      "Epoch 196/200\n",
      "409/409 [==============================] - 0s 314us/sample - loss: 0.0188 - accuracy: 0.9927 - val_loss: 0.0933 - val_accuracy: 0.9565\n",
      "Epoch 197/200\n",
      "409/409 [==============================] - 0s 265us/sample - loss: 0.0218 - accuracy: 0.9853 - val_loss: 0.1211 - val_accuracy: 0.9348\n",
      "Epoch 198/200\n",
      "409/409 [==============================] - 0s 391us/sample - loss: 0.0169 - accuracy: 0.9927 - val_loss: 0.1127 - val_accuracy: 0.9348\n",
      "Epoch 199/200\n",
      "409/409 [==============================] - 0s 337us/sample - loss: 0.0181 - accuracy: 0.9927 - val_loss: 0.1359 - val_accuracy: 0.9348\n",
      "Epoch 200/200\n",
      "409/409 [==============================] - 0s 246us/sample - loss: 0.0168 - accuracy: 0.9902 - val_loss: 0.1262 - val_accuracy: 0.9348\n"
     ]
    },
    {
     "data": {
      "image/png": "[encoded data removed]",
      "text/plain": [
       "<Figure size 864x432 with 2 Axes>"
      ]
     },
     "metadata": {
      "needs_background": "light"
     },
     "output_type": "display_data"
    }
   ],
   "source": [
    "############ General Parameters ############################\n",
    "\n",
    "N_HIDDEN = 3\n",
    "N_NEURONS = 32\n",
    "N_EPOCHS = 200\n",
    "\n",
    "# 0 fit silently; 1 show results per epoch\n",
    "VERBOSE = 1\n",
    "\n",
    "########### Regularization options ########################\n",
    "INCLUDE_DROPOUT = True\n",
    "DROPOUT_RATE = 0.2\n",
    "\n",
    "INCLUDE_EARLY_STOP = False\n",
    "PATIENCE = 10\n",
    "\n",
    "#create an early stopping callback\n",
    "es = EarlyStopping(monitor='val_loss', \n",
    "                   patience=PATIENCE,\n",
    "                   restore_best_weights=True)\n",
    "\n",
    "###########################################################\n",
    "\n",
    "#include early stopping?\n",
    "callbacks = []\n",
    "if INCLUDE_EARLY_STOP:\n",
    "    callbacks.append(es)\n",
    "\n",
    "#get the custom feedforward model\n",
    "model_2 = get_model(input_size=X_train.shape[1], \n",
    "                    n_hidden=N_HIDDEN,\n",
    "                    n_neurons=N_NEURONS,\n",
    "                    dropout=INCLUDE_DROPOUT,\n",
    "                    d_rate=DROPOUT_RATE)\n",
    "\n",
    "#summary to remind us what we have built!\n",
    "print(model_2.summary())\n",
    "\n",
    "#compile the new model\n",
    "model_2.compile(optimizer='adam',\n",
    "                loss='binary_crossentropy',\n",
    "                metrics=['accuracy'])\n",
    "\n",
    "\n",
    "#fit the model and also pass in the callback\n",
    "results_2 = model_2.fit(x=X_train, \n",
    "                      y=y_train, \n",
    "                      batch_size=32,\n",
    "                      validation_split=0.10, \n",
    "                      epochs=N_EPOCHS, \n",
    "                      verbose=VERBOSE,\n",
    "                      callbacks=callbacks)\n",
    "\n",
    "\n",
    "#plot loss and val loss\n",
    "plot_loss(results_2)\n"
   ]
  },
  {
   "cell_type": "markdown",
   "metadata": {},
   "source": [
    "# Prediction\n",
    "\n",
    "Predicting the training set very straightforward making use of the models `.predict()` method.  \n",
    "\n",
    "> When predicting results for individual patients you will need to `.reshape` your input"
   ]
  },
  {
   "cell_type": "code",
   "execution_count": 23,
   "metadata": {},
   "outputs": [
    {
     "data": {
      "text/plain": [
       "(114, 30)"
      ]
     },
     "execution_count": 23,
     "metadata": {},
     "output_type": "execute_result"
    }
   ],
   "source": [
    "X_test.shape"
   ]
  },
  {
   "cell_type": "code",
   "execution_count": 24,
   "metadata": {},
   "outputs": [
    {
     "data": {
      "text/plain": [
       "(30,)"
      ]
     },
     "execution_count": 24,
     "metadata": {},
     "output_type": "execute_result"
    }
   ],
   "source": [
    "X_test[0].shape"
   ]
  },
  {
   "cell_type": "code",
   "execution_count": 25,
   "metadata": {},
   "outputs": [
    {
     "data": {
      "text/plain": [
       "array([[0.25978513, 0.30064254, 0.25775689, 0.14354189, 0.42448316,\n",
       "        0.26507576, 0.18755858, 0.18991054, 0.43686869, 0.29001685,\n",
       "        0.10305993, 0.1511227 , 0.08198652, 0.04387017, 0.17812829,\n",
       "        0.12661099, 0.06820707, 0.19643872, 0.1398379 , 0.09297569,\n",
       "        0.25044468, 0.33635394, 0.22730216, 0.12109221, 0.4717031 ,\n",
       "        0.20423786, 0.21333866, 0.34879725, 0.2856298 , 0.2129083 ]])"
      ]
     },
     "execution_count": 25,
     "metadata": {},
     "output_type": "execute_result"
    }
   ],
   "source": [
    "X_test[0].reshape(1, -1)"
   ]
  },
  {
   "cell_type": "markdown",
   "metadata": {},
   "source": [
    "### Predicting and individual patients result"
   ]
  },
  {
   "cell_type": "code",
   "execution_count": 84,
   "metadata": {},
   "outputs": [
    {
     "name": "stdout",
     "output_type": "stream",
     "text": [
      "prediction: False\n",
      "ground truth value: False\n"
     ]
    }
   ],
   "source": [
    "test_id = 0\n",
    "\n",
    "pred = model_2.predict(x=X_test[test_id].reshape(1, -1))[0,0]\n",
    "print(f'prediction: {pred >= 0.5}')\n",
    "print(f'ground truth value: {y_test[test_id]}')"
   ]
  },
  {
   "cell_type": "markdown",
   "metadata": {},
   "source": [
    "### Predicting the full test set"
   ]
  },
  {
   "cell_type": "code",
   "execution_count": 85,
   "metadata": {},
   "outputs": [
    {
     "data": {
      "text/plain": [
       "array([1.0000000e+00, 9.9999917e-01, 8.8605575e-06, 1.5132190e-06,\n",
       "       1.0000000e+00, 1.0000000e+00, 9.9980170e-01, 8.9180154e-01,\n",
       "       2.8434761e-05], dtype=float32)"
      ]
     },
     "execution_count": 85,
     "metadata": {},
     "output_type": "execute_result"
    }
   ],
   "source": [
    "y_pred = model_2.predict(x=X_test).flatten()\n",
    "y_pred[1:10]"
   ]
  },
  {
   "cell_type": "markdown",
   "metadata": {},
   "source": [
    "### quick reminder of classification metrics\n",
    "\n",
    "TP = True positives\n",
    "FP = False positives\n",
    "TN = True negatives\n",
    "FN = False negatives\n",
    "\n",
    "$precision = \\dfrac{TP}{TP + FP}$  e.g if model predicts a patient does have a maligant tumor with precision 0.8.  Then when a model makes a positive cancer prediction it is right about 80% of the time.\n",
    "\n",
    "$recall = sensitivity = \\dfrac{TP}{TP + FN}$ I.e. The proportion of true positive identified. \n",
    "\n",
    "$specificity =  \\dfrac{TN}{TN + FP}$  How many negative classifications are actually negative?\n",
    "\n",
    "For the Winconsin breast cancer dataset we want a high sensitivity (detecting as many patients tumors as possible), but not at the cost of specificity (lots of false positives)."
   ]
  },
  {
   "cell_type": "code",
   "execution_count": 128,
   "metadata": {},
   "outputs": [],
   "source": [
    "from sklearn.metrics import classification_report, confusion_matrix"
   ]
  },
  {
   "cell_type": "code",
   "execution_count": 129,
   "metadata": {},
   "outputs": [],
   "source": [
    "#get predictions\n",
    "y_pred = model_2.predict(x=X_test).flatten()"
   ]
  },
  {
   "cell_type": "code",
   "execution_count": 136,
   "metadata": {},
   "outputs": [
    {
     "data": {
      "text/plain": [
       "array([0.03, 1.  , 1.  , 0.  , 0.  , 1.  , 1.  , 1.  , 0.89, 0.  , 0.01,\n",
       "       1.  , 0.  , 0.94, 0.  , 1.  , 0.  , 0.  , 0.  , 1.  , 0.  , 0.  ,\n",
       "       1.  , 0.  , 0.  , 0.  , 0.  , 0.  , 0.  , 1.  , 0.  , 0.  , 0.  ,\n",
       "       0.  , 0.  , 0.  , 1.  , 0.  , 1.  , 0.  , 0.  , 1.  , 0.  , 0.  ,\n",
       "       0.01, 0.01, 0.  , 0.  , 0.01, 0.  , 1.  , 1.  , 0.77, 0.  , 0.  ,\n",
       "       0.  , 0.  , 1.  , 1.  , 0.  , 0.  , 1.  , 1.  , 0.  , 0.  , 0.29,\n",
       "       1.  , 1.  , 0.  , 0.  , 1.  , 1.  , 0.  , 1.  , 0.  , 0.  , 0.  ,\n",
       "       0.27, 0.  , 0.  , 1.  , 0.  , 0.57, 1.  , 1.  , 1.  , 1.  , 1.  ,\n",
       "       0.  , 0.  , 0.  , 0.54, 0.  , 0.  , 0.  , 0.  , 1.  , 1.  , 0.  ,\n",
       "       1.  , 1.  , 0.  , 1.  , 1.  , 0.  , 0.02, 0.  , 1.  , 0.  , 0.  ,\n",
       "       1.  , 0.  , 0.11, 1.  ], dtype=float32)"
      ]
     },
     "execution_count": 136,
     "metadata": {},
     "output_type": "execute_result"
    }
   ],
   "source": [
    "#predictions are probabilities that the patient has a malignant tumour\n",
    "np.round(y_pred, 2)"
   ]
  },
  {
   "cell_type": "code",
   "execution_count": 140,
   "metadata": {},
   "outputs": [
    {
     "data": {
      "text/plain": [
       "array([0, 1, 1, 0, 0, 1, 1, 1, 1, 0, 0, 1, 0, 1, 0, 1, 0, 0, 0, 1, 0, 0,\n",
       "       1, 0, 0, 0, 0, 0, 0, 1, 0, 0, 0, 0, 0, 0, 1, 0, 1, 0, 0, 1, 0, 0,\n",
       "       0, 0, 0, 0, 0, 0, 1, 1, 1, 0, 0, 0, 0, 1, 1, 0, 0, 1, 1, 0, 0, 0,\n",
       "       1, 1, 0, 0, 1, 1, 0, 1, 0, 0, 0, 0, 0, 0, 1, 0, 1, 1, 1, 1, 1, 1,\n",
       "       0, 0, 0, 1, 0, 0, 0, 0, 1, 1, 0, 1, 1, 0, 1, 1, 0, 0, 0, 1, 0, 0,\n",
       "       1, 0, 0, 1])"
      ]
     },
     "execution_count": 140,
     "metadata": {},
     "output_type": "execute_result"
    }
   ],
   "source": [
    "#view as 0/1\n",
    "THRESHOLD = 0.5\n",
    "(y_pred >= THRESHOLD).astype(np.int)"
   ]
  },
  {
   "cell_type": "code",
   "execution_count": 141,
   "metadata": {},
   "outputs": [
    {
     "name": "stdout",
     "output_type": "stream",
     "text": [
      "sensitivity 0.953\n",
      "specificity 0.958\n"
     ]
    }
   ],
   "source": [
    "#classification results\n",
    "THRESHOLD = 0.5\n",
    "tn, fp, fn, tp = confusion_matrix(y_test, y_pred >= THRESHOLD).flatten()\n",
    "\n",
    "#sensitivity and specificity\n",
    "sensitivity = tp / (tp + fn)\n",
    "specificity = tn / (tn + fp)\n",
    "\n",
    "print(f'sensitivity {sensitivity:.3f}')\n",
    "print(f'specificity {specificity:.3f}')"
   ]
  },
  {
   "cell_type": "code",
   "execution_count": 142,
   "metadata": {},
   "outputs": [
    {
     "name": "stdout",
     "output_type": "stream",
     "text": [
      "              precision    recall  f1-score   support\n",
      "\n",
      "       False       0.97      0.96      0.96        71\n",
      "        True       0.93      0.95      0.94        43\n",
      "\n",
      "    accuracy                           0.96       114\n",
      "   macro avg       0.95      0.96      0.95       114\n",
      "weighted avg       0.96      0.96      0.96       114\n",
      "\n"
     ]
    }
   ],
   "source": [
    "report = classification_report(y_test, y_pred >= THRESHOLD)\n",
    "print(report)"
   ]
  },
  {
   "cell_type": "markdown",
   "metadata": {},
   "source": [
    "# Prediction Uncertainty\n",
    "\n",
    "One issue with neural networks is that they don't automatically produce estimates of uncertainty.  This is problematic as they have been trained using stochastic gradient descent. \n",
    "\n",
    "One way to get an estimate of uncertainty from a neural network is to use **Monte Carlo Dropout**.  We have already learnt about `Dropout` layers and using them for regularisation.  What perhaps isn't clear is that when we make a prediction with a Keras model the `Dropout` layers are turned **off**.  If we instead turn them **on** and making a large number of predictions from the same data produce a distribution of predictions.  \n",
    "\n",
    "> The below will only work **if you include dropout layers in your model!**"
   ]
  },
  {
   "cell_type": "code",
   "execution_count": 157,
   "metadata": {},
   "outputs": [
    {
     "name": "stdout",
     "output_type": "stream",
     "text": [
      "[0.573]\n"
     ]
    }
   ],
   "source": [
    "#get predictions\n",
    "sample_no = 82\n",
    "y_pred = model_2.predict(x=X_test[sample_no].reshape(1, -1)).flatten()\n",
    "print(np.round(y_pred, 3))"
   ]
  },
  {
   "cell_type": "code",
   "execution_count": 158,
   "metadata": {},
   "outputs": [
    {
     "data": {
      "text/plain": [
       "True"
      ]
     },
     "execution_count": 158,
     "metadata": {},
     "output_type": "execute_result"
    }
   ],
   "source": [
    "y_test[sample_no]"
   ]
  },
  {
   "cell_type": "code",
   "execution_count": 163,
   "metadata": {},
   "outputs": [
    {
     "data": {
      "text/plain": [
       "array([0.89, 0.79, 0.33, 0.56, 0.72, 0.38, 0.84, 0.67, 0.97, 0.82, 0.65,\n",
       "       0.7 , 0.79, 0.71, 0.7 , 0.7 , 0.25, 0.59, 0.38, 0.39, 0.85, 0.78,\n",
       "       0.29, 0.28, 0.5 , 0.77, 0.1 , 0.81, 0.9 , 0.76, 0.58, 0.91, 0.43,\n",
       "       0.88, 0.13, 0.36, 0.67, 0.88, 0.62, 0.12, 0.85, 0.94, 0.76, 0.61,\n",
       "       0.74, 0.25, 0.34, 0.34, 0.73, 0.22, 0.21, 0.98, 0.85, 0.83, 0.88,\n",
       "       0.14, 0.23, 0.25, 0.61, 0.85, 0.46, 0.26, 0.49, 0.16, 0.4 , 0.86,\n",
       "       0.32, 0.7 , 0.72, 0.54, 0.62, 0.87, 0.13, 0.61, 0.4 , 0.85, 0.59,\n",
       "       0.44, 0.35, 0.85, 0.69, 0.36, 0.26, 0.16, 0.38, 0.69, 0.94, 0.61,\n",
       "       0.77, 0.67, 0.71, 0.66, 0.56, 0.87, 0.57, 0.71, 0.51, 0.75, 0.56,\n",
       "       0.78], dtype=float32)"
      ]
     },
     "execution_count": 163,
     "metadata": {},
     "output_type": "execute_result"
    }
   ],
   "source": [
    "y_probas = [model_2(X_test[sample_no].reshape(1, -1), training=True) \n",
    "            for sample in range(100)]\n",
    "\n",
    "y_probas = np.round(np.stack(y_probas).flatten(), 2)\n",
    "y_probas"
   ]
  },
  {
   "cell_type": "code",
   "execution_count": 164,
   "metadata": {},
   "outputs": [
    {
     "data": {
      "text/plain": [
       "0.6349999904632568"
      ]
     },
     "execution_count": 164,
     "metadata": {},
     "output_type": "execute_result"
    }
   ],
   "source": [
    "np.quantile(y_probas, q=0.5)"
   ]
  },
  {
   "cell_type": "code",
   "execution_count": 165,
   "metadata": {},
   "outputs": [
    {
     "data": {
      "text/plain": [
       "0.58889997"
      ]
     },
     "execution_count": 165,
     "metadata": {},
     "output_type": "execute_result"
    }
   ],
   "source": [
    "y_probas.mean()"
   ]
  },
  {
   "cell_type": "code",
   "execution_count": 166,
   "metadata": {},
   "outputs": [
    {
     "data": {
      "text/plain": [
       "0.24175565"
      ]
     },
     "execution_count": 166,
     "metadata": {},
     "output_type": "execute_result"
    }
   ],
   "source": [
    "y_probas.std()"
   ]
  }
 ],
 "metadata": {
  "kernelspec": {
   "display_name": "Python 3",
   "language": "python",
   "name": "python3"
  },
  "language_info": {
   "codemirror_mode": {
    "name": "ipython",
    "version": 3
   },
   "file_extension": ".py",
   "mimetype": "text/x-python",
   "name": "python",
   "nbconvert_exporter": "python",
   "pygments_lexer": "ipython3",
   "version": "3.7.7"
  }
 },
 "nbformat": 4,
 "nbformat_minor": 4
}
