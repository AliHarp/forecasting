{
 "cells": [
  {
   "cell_type": "markdown",
   "metadata": {},
   "source": [
    "# Deep Learning 101\n",
    "\n",
    "<div class=\"alert alert-success\">\n",
    "This lecture takes a practical approach to introduce modern deep learning approaches.  It provides foundational deep learning knowledge in order for you to move onto time series forecasting.\n",
    "</div>\n",
    "\n",
    "**By the end of this lecture you will have:**\n",
    "    \n",
    "* Developed a conceptual understanding of modern deep neural networks.\n",
    "* Built intuition about what hidden layers within a deep network are doing and how they aid prediction.\n",
    "* Understand the definition and benefits of mini batches of training data\n",
    "* Built intuition about how networks 'learn' using the backpropogation algorithm and stochastic gradient descent.\n",
    "* Learnt how to build simple neural network architectures in Keras and Tensorflow 2.0\n",
    "* The foundational knowledge to move onto using feedforward neural networks for time series forecasting."
   ]
  },
  {
   "cell_type": "markdown",
   "metadata": {},
   "source": [
    "# Standard Imports"
   ]
  },
  {
   "cell_type": "code",
   "execution_count": 1,
   "metadata": {},
   "outputs": [],
   "source": [
    "import numpy as np\n",
    "import pandas as pd\n",
    "import matplotlib.pyplot as plt"
   ]
  },
  {
   "cell_type": "markdown",
   "metadata": {},
   "source": [
    "# Keras and Tensorflow Imports\n",
    "\n",
    "For your deep learning you will make use of [Keras](https://keras.io/).  This is a python library that sits on top of Google's deep learning toolset: Tensorflow 2.0.  Keras makes deep learning relatively straightfoward because it hides a lot of the complexity of Tensorflow. \n",
    "\n",
    "> Another very powerful deep learning framework is [PyTorch](https://pytorch.org/).  This is a pythonic deep learning toolkit and is also very powerful.  Our research experience is that PyTorch is more efficient than Keras and Tensorflow (sometimes by a considerable margin), but that it requires more code to do the same things as Keras.  Another way to look at this is that Keras comes with 'more bells and whistles' than PyTorch and for learning that comes in very handy!  The exercises that you will tackle in this course are written in Keras/TF, but you will also have access to optional material written in PyTorch."
   ]
  },
  {
   "cell_type": "code",
   "execution_count": 2,
   "metadata": {},
   "outputs": [
    {
     "name": "stdout",
     "output_type": "stream",
     "text": [
      "2.1.0\n"
     ]
    }
   ],
   "source": [
    "import tensorflow as tf\n",
    "from tensorflow import keras\n",
    "\n",
    "#if using hds_forecast this should be version 2.0+\n",
    "print(tf.__version__)"
   ]
  },
  {
   "cell_type": "markdown",
   "metadata": {},
   "source": [
    "# Computational cost of deep learning\n",
    "\n",
    "When you have a complex deep learning architecture (which isn't always the case) and lots of data you should expect it to be more computationally expensive (take longer to run and work your CPU hard) than other types of ML.  In these instances, you really need a powerful machine and for some models a GPU.  For **time series forecasting**, we will be using the OpenStack on the High Performance Cluster, but for personal learning and coursework you can also make use of Google Colaboratory (Jupyter in the cloud).  Google also provide a GPU.  All of the neural network notebooks in this course are runnable in Google Colab. "
   ]
  },
  {
   "cell_type": "markdown",
   "metadata": {},
   "source": [
    "# A first look at Deep Learning using Tensorflow Playground"
   ]
  },
  {
   "cell_type": "markdown",
   "metadata": {},
   "source": [
    "[Tensorflow playground](https://playground.tensorflow.org/#activation=tanh&batchSize=10&dataset=circle&regDataset=reg-plane&learningRate=0.03&regularizationRate=0&noise=0&networkShape=4,2&seed=0.55467&showTestData=false&discretize=false&percTrainData=50&x=true&y=true&xTimesY=false&xSquared=false&ySquared=false&cosX=false&sinX=false&cosY=false&sinY=false&collectStats=false&problem=classification&initZero=false&hideText=false) is provided by Google.  I recommend that you spend some time using it as it helps build intuition about how deep learning works."
   ]
  },
  {
   "cell_type": "markdown",
   "metadata": {},
   "source": [
    "# Components needed for deep learning.\n",
    "\n",
    "## 1. Training and test data\n",
    "\n",
    "The data for this lecture is a real dataset known as the 'Wisconsin Breast Cancer' dataset. The data set consists of individual   we will use a **Feedforward Neural Network Architecture.**\n",
    "\n",
    "The data are published and open; feel free to take a look at them in more detail."
   ]
  },
  {
   "cell_type": "code",
   "execution_count": 3,
   "metadata": {},
   "outputs": [],
   "source": [
    "url = 'https://raw.githubusercontent.com/MichaelAllen1966/synthetic_data_pilot/main/01_wisconsin/wisconsin.csv'\n",
    "cancer = pd.read_csv(url)"
   ]
  },
  {
   "cell_type": "code",
   "execution_count": 4,
   "metadata": {},
   "outputs": [],
   "source": [
    "# Load data and drop 'id' column\n",
    "cancer.drop('id', axis=1, inplace=True)\n",
    "\n",
    "# Change 'diagnosis' column to 'malignant', and put in last column place\n",
    "cancer['malignant'] = cancer['diagnosis'] == 'M'\n",
    "cancer.drop('diagnosis', axis=1, inplace=True)"
   ]
  },
  {
   "cell_type": "code",
   "execution_count": 5,
   "metadata": {},
   "outputs": [
    {
     "data": {
      "text/plain": [
       "(569, 31)"
      ]
     },
     "execution_count": 5,
     "metadata": {},
     "output_type": "execute_result"
    }
   ],
   "source": [
    "# 30 features and a single binary (0/1) label\n",
    "cancer.shape"
   ]
  },
  {
   "cell_type": "code",
   "execution_count": 59,
   "metadata": {},
   "outputs": [
    {
     "data": {
      "text/html": [
       "<div>\n",
       "<style scoped>\n",
       "    .dataframe tbody tr th:only-of-type {\n",
       "        vertical-align: middle;\n",
       "    }\n",
       "\n",
       "    .dataframe tbody tr th {\n",
       "        vertical-align: top;\n",
       "    }\n",
       "\n",
       "    .dataframe thead th {\n",
       "        text-align: right;\n",
       "    }\n",
       "</style>\n",
       "<table border=\"1\" class=\"dataframe\">\n",
       "  <thead>\n",
       "    <tr style=\"text-align: right;\">\n",
       "      <th></th>\n",
       "      <th>radius_mean</th>\n",
       "      <th>texture_mean</th>\n",
       "      <th>perimeter_mean</th>\n",
       "      <th>area_mean</th>\n",
       "      <th>smoothness_mean</th>\n",
       "      <th>compactness_mean</th>\n",
       "      <th>concavity_mean</th>\n",
       "      <th>concave points_mean</th>\n",
       "      <th>symmetry_mean</th>\n",
       "      <th>fractal_dimension_mean</th>\n",
       "      <th>...</th>\n",
       "      <th>texture_worst</th>\n",
       "      <th>perimeter_worst</th>\n",
       "      <th>area_worst</th>\n",
       "      <th>smoothness_worst</th>\n",
       "      <th>compactness_worst</th>\n",
       "      <th>concavity_worst</th>\n",
       "      <th>concave points_worst</th>\n",
       "      <th>symmetry_worst</th>\n",
       "      <th>fractal_dimension_worst</th>\n",
       "      <th>malignant</th>\n",
       "    </tr>\n",
       "  </thead>\n",
       "  <tbody>\n",
       "    <tr>\n",
       "      <th>0</th>\n",
       "      <td>17.99</td>\n",
       "      <td>10.38</td>\n",
       "      <td>122.80</td>\n",
       "      <td>1001.0</td>\n",
       "      <td>0.11840</td>\n",
       "      <td>0.27760</td>\n",
       "      <td>0.3001</td>\n",
       "      <td>0.14710</td>\n",
       "      <td>0.2419</td>\n",
       "      <td>0.07871</td>\n",
       "      <td>...</td>\n",
       "      <td>17.33</td>\n",
       "      <td>184.60</td>\n",
       "      <td>2019.0</td>\n",
       "      <td>0.1622</td>\n",
       "      <td>0.6656</td>\n",
       "      <td>0.7119</td>\n",
       "      <td>0.2654</td>\n",
       "      <td>0.4601</td>\n",
       "      <td>0.11890</td>\n",
       "      <td>True</td>\n",
       "    </tr>\n",
       "    <tr>\n",
       "      <th>1</th>\n",
       "      <td>20.57</td>\n",
       "      <td>17.77</td>\n",
       "      <td>132.90</td>\n",
       "      <td>1326.0</td>\n",
       "      <td>0.08474</td>\n",
       "      <td>0.07864</td>\n",
       "      <td>0.0869</td>\n",
       "      <td>0.07017</td>\n",
       "      <td>0.1812</td>\n",
       "      <td>0.05667</td>\n",
       "      <td>...</td>\n",
       "      <td>23.41</td>\n",
       "      <td>158.80</td>\n",
       "      <td>1956.0</td>\n",
       "      <td>0.1238</td>\n",
       "      <td>0.1866</td>\n",
       "      <td>0.2416</td>\n",
       "      <td>0.1860</td>\n",
       "      <td>0.2750</td>\n",
       "      <td>0.08902</td>\n",
       "      <td>True</td>\n",
       "    </tr>\n",
       "    <tr>\n",
       "      <th>2</th>\n",
       "      <td>19.69</td>\n",
       "      <td>21.25</td>\n",
       "      <td>130.00</td>\n",
       "      <td>1203.0</td>\n",
       "      <td>0.10960</td>\n",
       "      <td>0.15990</td>\n",
       "      <td>0.1974</td>\n",
       "      <td>0.12790</td>\n",
       "      <td>0.2069</td>\n",
       "      <td>0.05999</td>\n",
       "      <td>...</td>\n",
       "      <td>25.53</td>\n",
       "      <td>152.50</td>\n",
       "      <td>1709.0</td>\n",
       "      <td>0.1444</td>\n",
       "      <td>0.4245</td>\n",
       "      <td>0.4504</td>\n",
       "      <td>0.2430</td>\n",
       "      <td>0.3613</td>\n",
       "      <td>0.08758</td>\n",
       "      <td>True</td>\n",
       "    </tr>\n",
       "    <tr>\n",
       "      <th>3</th>\n",
       "      <td>11.42</td>\n",
       "      <td>20.38</td>\n",
       "      <td>77.58</td>\n",
       "      <td>386.1</td>\n",
       "      <td>0.14250</td>\n",
       "      <td>0.28390</td>\n",
       "      <td>0.2414</td>\n",
       "      <td>0.10520</td>\n",
       "      <td>0.2597</td>\n",
       "      <td>0.09744</td>\n",
       "      <td>...</td>\n",
       "      <td>26.50</td>\n",
       "      <td>98.87</td>\n",
       "      <td>567.7</td>\n",
       "      <td>0.2098</td>\n",
       "      <td>0.8663</td>\n",
       "      <td>0.6869</td>\n",
       "      <td>0.2575</td>\n",
       "      <td>0.6638</td>\n",
       "      <td>0.17300</td>\n",
       "      <td>True</td>\n",
       "    </tr>\n",
       "    <tr>\n",
       "      <th>4</th>\n",
       "      <td>20.29</td>\n",
       "      <td>14.34</td>\n",
       "      <td>135.10</td>\n",
       "      <td>1297.0</td>\n",
       "      <td>0.10030</td>\n",
       "      <td>0.13280</td>\n",
       "      <td>0.1980</td>\n",
       "      <td>0.10430</td>\n",
       "      <td>0.1809</td>\n",
       "      <td>0.05883</td>\n",
       "      <td>...</td>\n",
       "      <td>16.67</td>\n",
       "      <td>152.20</td>\n",
       "      <td>1575.0</td>\n",
       "      <td>0.1374</td>\n",
       "      <td>0.2050</td>\n",
       "      <td>0.4000</td>\n",
       "      <td>0.1625</td>\n",
       "      <td>0.2364</td>\n",
       "      <td>0.07678</td>\n",
       "      <td>True</td>\n",
       "    </tr>\n",
       "  </tbody>\n",
       "</table>\n",
       "<p>5 rows × 31 columns</p>\n",
       "</div>"
      ],
      "text/plain": [
       "   radius_mean  texture_mean  perimeter_mean  area_mean  smoothness_mean  \\\n",
       "0        17.99         10.38          122.80     1001.0          0.11840   \n",
       "1        20.57         17.77          132.90     1326.0          0.08474   \n",
       "2        19.69         21.25          130.00     1203.0          0.10960   \n",
       "3        11.42         20.38           77.58      386.1          0.14250   \n",
       "4        20.29         14.34          135.10     1297.0          0.10030   \n",
       "\n",
       "   compactness_mean  concavity_mean  concave points_mean  symmetry_mean  \\\n",
       "0           0.27760          0.3001              0.14710         0.2419   \n",
       "1           0.07864          0.0869              0.07017         0.1812   \n",
       "2           0.15990          0.1974              0.12790         0.2069   \n",
       "3           0.28390          0.2414              0.10520         0.2597   \n",
       "4           0.13280          0.1980              0.10430         0.1809   \n",
       "\n",
       "   fractal_dimension_mean  ...  texture_worst  perimeter_worst  area_worst  \\\n",
       "0                 0.07871  ...          17.33           184.60      2019.0   \n",
       "1                 0.05667  ...          23.41           158.80      1956.0   \n",
       "2                 0.05999  ...          25.53           152.50      1709.0   \n",
       "3                 0.09744  ...          26.50            98.87       567.7   \n",
       "4                 0.05883  ...          16.67           152.20      1575.0   \n",
       "\n",
       "   smoothness_worst  compactness_worst  concavity_worst  concave points_worst  \\\n",
       "0            0.1622             0.6656           0.7119                0.2654   \n",
       "1            0.1238             0.1866           0.2416                0.1860   \n",
       "2            0.1444             0.4245           0.4504                0.2430   \n",
       "3            0.2098             0.8663           0.6869                0.2575   \n",
       "4            0.1374             0.2050           0.4000                0.1625   \n",
       "\n",
       "   symmetry_worst  fractal_dimension_worst  malignant  \n",
       "0          0.4601                  0.11890       True  \n",
       "1          0.2750                  0.08902       True  \n",
       "2          0.3613                  0.08758       True  \n",
       "3          0.6638                  0.17300       True  \n",
       "4          0.2364                  0.07678       True  \n",
       "\n",
       "[5 rows x 31 columns]"
      ]
     },
     "execution_count": 59,
     "metadata": {},
     "output_type": "execute_result"
    }
   ],
   "source": [
    "cancer.head()"
   ]
  },
  {
   "cell_type": "markdown",
   "metadata": {},
   "source": [
    "# Rescaled data"
   ]
  },
  {
   "cell_type": "code",
   "execution_count": 8,
   "metadata": {},
   "outputs": [],
   "source": [
    "from sklearn.preprocessing import MinMaxScaler"
   ]
  },
  {
   "cell_type": "code",
   "execution_count": 60,
   "metadata": {},
   "outputs": [],
   "source": [
    "to_rescale = cancer.columns[:-1]\n",
    "\n",
    "#create dataframe of quantitative data to rescale 0 - 1\n",
    "df_to_rescale = cancer[to_rescale]\n",
    "\n",
    "#dataframe of y variable\n",
    "y = cancer['malignant']"
   ]
  },
  {
   "cell_type": "code",
   "execution_count": 61,
   "metadata": {},
   "outputs": [
    {
     "name": "stdout",
     "output_type": "stream",
     "text": [
      "(569, 30)\n"
     ]
    },
    {
     "data": {
      "text/html": [
       "<div>\n",
       "<style scoped>\n",
       "    .dataframe tbody tr th:only-of-type {\n",
       "        vertical-align: middle;\n",
       "    }\n",
       "\n",
       "    .dataframe tbody tr th {\n",
       "        vertical-align: top;\n",
       "    }\n",
       "\n",
       "    .dataframe thead th {\n",
       "        text-align: right;\n",
       "    }\n",
       "</style>\n",
       "<table border=\"1\" class=\"dataframe\">\n",
       "  <thead>\n",
       "    <tr style=\"text-align: right;\">\n",
       "      <th></th>\n",
       "      <th>radius_mean</th>\n",
       "      <th>texture_mean</th>\n",
       "      <th>perimeter_mean</th>\n",
       "      <th>area_mean</th>\n",
       "      <th>smoothness_mean</th>\n",
       "      <th>compactness_mean</th>\n",
       "      <th>concavity_mean</th>\n",
       "      <th>concave points_mean</th>\n",
       "      <th>symmetry_mean</th>\n",
       "      <th>fractal_dimension_mean</th>\n",
       "      <th>...</th>\n",
       "      <th>radius_worst</th>\n",
       "      <th>texture_worst</th>\n",
       "      <th>perimeter_worst</th>\n",
       "      <th>area_worst</th>\n",
       "      <th>smoothness_worst</th>\n",
       "      <th>compactness_worst</th>\n",
       "      <th>concavity_worst</th>\n",
       "      <th>concave points_worst</th>\n",
       "      <th>symmetry_worst</th>\n",
       "      <th>fractal_dimension_worst</th>\n",
       "    </tr>\n",
       "  </thead>\n",
       "  <tbody>\n",
       "    <tr>\n",
       "      <th>0</th>\n",
       "      <td>0.521037</td>\n",
       "      <td>0.022658</td>\n",
       "      <td>0.545989</td>\n",
       "      <td>0.363733</td>\n",
       "      <td>0.593753</td>\n",
       "      <td>0.792037</td>\n",
       "      <td>0.703140</td>\n",
       "      <td>0.731113</td>\n",
       "      <td>0.686364</td>\n",
       "      <td>0.605518</td>\n",
       "      <td>...</td>\n",
       "      <td>0.620776</td>\n",
       "      <td>0.141525</td>\n",
       "      <td>0.668310</td>\n",
       "      <td>0.450698</td>\n",
       "      <td>0.601136</td>\n",
       "      <td>0.619292</td>\n",
       "      <td>0.568610</td>\n",
       "      <td>0.912027</td>\n",
       "      <td>0.598462</td>\n",
       "      <td>0.418864</td>\n",
       "    </tr>\n",
       "    <tr>\n",
       "      <th>1</th>\n",
       "      <td>0.643144</td>\n",
       "      <td>0.272574</td>\n",
       "      <td>0.615783</td>\n",
       "      <td>0.501591</td>\n",
       "      <td>0.289880</td>\n",
       "      <td>0.181768</td>\n",
       "      <td>0.203608</td>\n",
       "      <td>0.348757</td>\n",
       "      <td>0.379798</td>\n",
       "      <td>0.141323</td>\n",
       "      <td>...</td>\n",
       "      <td>0.606901</td>\n",
       "      <td>0.303571</td>\n",
       "      <td>0.539818</td>\n",
       "      <td>0.435214</td>\n",
       "      <td>0.347553</td>\n",
       "      <td>0.154563</td>\n",
       "      <td>0.192971</td>\n",
       "      <td>0.639175</td>\n",
       "      <td>0.233590</td>\n",
       "      <td>0.222878</td>\n",
       "    </tr>\n",
       "    <tr>\n",
       "      <th>2</th>\n",
       "      <td>0.601496</td>\n",
       "      <td>0.390260</td>\n",
       "      <td>0.595743</td>\n",
       "      <td>0.449417</td>\n",
       "      <td>0.514309</td>\n",
       "      <td>0.431017</td>\n",
       "      <td>0.462512</td>\n",
       "      <td>0.635686</td>\n",
       "      <td>0.509596</td>\n",
       "      <td>0.211247</td>\n",
       "      <td>...</td>\n",
       "      <td>0.556386</td>\n",
       "      <td>0.360075</td>\n",
       "      <td>0.508442</td>\n",
       "      <td>0.374508</td>\n",
       "      <td>0.483590</td>\n",
       "      <td>0.385375</td>\n",
       "      <td>0.359744</td>\n",
       "      <td>0.835052</td>\n",
       "      <td>0.403706</td>\n",
       "      <td>0.213433</td>\n",
       "    </tr>\n",
       "    <tr>\n",
       "      <th>3</th>\n",
       "      <td>0.210090</td>\n",
       "      <td>0.360839</td>\n",
       "      <td>0.233501</td>\n",
       "      <td>0.102906</td>\n",
       "      <td>0.811321</td>\n",
       "      <td>0.811361</td>\n",
       "      <td>0.565604</td>\n",
       "      <td>0.522863</td>\n",
       "      <td>0.776263</td>\n",
       "      <td>1.000000</td>\n",
       "      <td>...</td>\n",
       "      <td>0.248310</td>\n",
       "      <td>0.385928</td>\n",
       "      <td>0.241347</td>\n",
       "      <td>0.094008</td>\n",
       "      <td>0.915472</td>\n",
       "      <td>0.814012</td>\n",
       "      <td>0.548642</td>\n",
       "      <td>0.884880</td>\n",
       "      <td>1.000000</td>\n",
       "      <td>0.773711</td>\n",
       "    </tr>\n",
       "    <tr>\n",
       "      <th>4</th>\n",
       "      <td>0.629893</td>\n",
       "      <td>0.156578</td>\n",
       "      <td>0.630986</td>\n",
       "      <td>0.489290</td>\n",
       "      <td>0.430351</td>\n",
       "      <td>0.347893</td>\n",
       "      <td>0.463918</td>\n",
       "      <td>0.518390</td>\n",
       "      <td>0.378283</td>\n",
       "      <td>0.186816</td>\n",
       "      <td>...</td>\n",
       "      <td>0.519744</td>\n",
       "      <td>0.123934</td>\n",
       "      <td>0.506948</td>\n",
       "      <td>0.341575</td>\n",
       "      <td>0.437364</td>\n",
       "      <td>0.172415</td>\n",
       "      <td>0.319489</td>\n",
       "      <td>0.558419</td>\n",
       "      <td>0.157500</td>\n",
       "      <td>0.142595</td>\n",
       "    </tr>\n",
       "  </tbody>\n",
       "</table>\n",
       "<p>5 rows × 30 columns</p>\n",
       "</div>"
      ],
      "text/plain": [
       "   radius_mean  texture_mean  perimeter_mean  area_mean  smoothness_mean  \\\n",
       "0     0.521037      0.022658        0.545989   0.363733         0.593753   \n",
       "1     0.643144      0.272574        0.615783   0.501591         0.289880   \n",
       "2     0.601496      0.390260        0.595743   0.449417         0.514309   \n",
       "3     0.210090      0.360839        0.233501   0.102906         0.811321   \n",
       "4     0.629893      0.156578        0.630986   0.489290         0.430351   \n",
       "\n",
       "   compactness_mean  concavity_mean  concave points_mean  symmetry_mean  \\\n",
       "0          0.792037        0.703140             0.731113       0.686364   \n",
       "1          0.181768        0.203608             0.348757       0.379798   \n",
       "2          0.431017        0.462512             0.635686       0.509596   \n",
       "3          0.811361        0.565604             0.522863       0.776263   \n",
       "4          0.347893        0.463918             0.518390       0.378283   \n",
       "\n",
       "   fractal_dimension_mean  ...  radius_worst  texture_worst  perimeter_worst  \\\n",
       "0                0.605518  ...      0.620776       0.141525         0.668310   \n",
       "1                0.141323  ...      0.606901       0.303571         0.539818   \n",
       "2                0.211247  ...      0.556386       0.360075         0.508442   \n",
       "3                1.000000  ...      0.248310       0.385928         0.241347   \n",
       "4                0.186816  ...      0.519744       0.123934         0.506948   \n",
       "\n",
       "   area_worst  smoothness_worst  compactness_worst  concavity_worst  \\\n",
       "0    0.450698          0.601136           0.619292         0.568610   \n",
       "1    0.435214          0.347553           0.154563         0.192971   \n",
       "2    0.374508          0.483590           0.385375         0.359744   \n",
       "3    0.094008          0.915472           0.814012         0.548642   \n",
       "4    0.341575          0.437364           0.172415         0.319489   \n",
       "\n",
       "   concave points_worst  symmetry_worst  fractal_dimension_worst  \n",
       "0              0.912027        0.598462                 0.418864  \n",
       "1              0.639175        0.233590                 0.222878  \n",
       "2              0.835052        0.403706                 0.213433  \n",
       "3              0.884880        1.000000                 0.773711  \n",
       "4              0.558419        0.157500                 0.142595  \n",
       "\n",
       "[5 rows x 30 columns]"
      ]
     },
     "execution_count": 61,
     "metadata": {},
     "output_type": "execute_result"
    }
   ],
   "source": [
    "# do the rescaling and assign to dataframe\n",
    "scaler = MinMaxScaler()\n",
    "scaler.fit(df_to_rescale)\n",
    "X_scaled = pd.DataFrame(scaler.transform(df_to_rescale))\n",
    "X_scaled.columns = df_to_rescale.columns\n",
    "\n",
    "#take a look at the rescaled data\n",
    "print(X_scaled.shape)\n",
    "X_scaled.head()"
   ]
  },
  {
   "cell_type": "markdown",
   "metadata": {},
   "source": [
    "# Train-Test Split\n",
    "\n",
    "Just like other Machine Learning approaches we first do a train test split (and do not look at or use our test data until we are ready!)."
   ]
  },
  {
   "cell_type": "code",
   "execution_count": 62,
   "metadata": {},
   "outputs": [],
   "source": [
    "from sklearn.model_selection import train_test_split"
   ]
  },
  {
   "cell_type": "code",
   "execution_count": 63,
   "metadata": {},
   "outputs": [],
   "source": [
    "#setting random_state means we always get the same split\n",
    "X_train, X_test, y_train, y_test \\\n",
    "    = train_test_split(X_scaled.to_numpy(), y.to_numpy(), \n",
    "                       test_size=0.20, \n",
    "                       random_state=42)"
   ]
  },
  {
   "cell_type": "code",
   "execution_count": 64,
   "metadata": {},
   "outputs": [
    {
     "name": "stdout",
     "output_type": "stream",
     "text": [
      "(455, 30)\n",
      "(114, 30)\n"
     ]
    }
   ],
   "source": [
    "print(X_train.shape)\n",
    "print(X_test.shape)"
   ]
  },
  {
   "cell_type": "markdown",
   "metadata": {},
   "source": [
    "## Sequential layers and activation functions\n",
    "\n",
    "Feedforward neural networks accept a vector of quantitative values as input and pass this through a sequence of fully connected layers (all neurons are connected to each other).  Each neuron in a layer recieves input from all of the neurons in the previous layer. The neuron weights the input vector, adds bias and then passes it through an activation function. In a hidden layer, for example, you could use a Rectified Linear Unit (ReLU).  \n",
    "\n",
    "The final layer is an **output** layer.  The thrombolysis example is a binary classification so the output layer is a fully connected layer with a single neuron.  You will need to use a `sigmoid` activation function to provide a probability of recieving thromboysis between 0.0 and 1.0.\n",
    "\n",
    "For feedforward networks, `Keras` provides simple classes to help you construct your model."
   ]
  },
  {
   "cell_type": "code",
   "execution_count": 15,
   "metadata": {},
   "outputs": [],
   "source": [
    "#a model consisting of a sequential set of layers\n",
    "from tensorflow.keras.models import Sequential\n",
    "\n",
    "#a fully connected layer, an input layer\n",
    "from tensorflow.keras.layers import Dense, Input"
   ]
  },
  {
   "cell_type": "code",
   "execution_count": 16,
   "metadata": {},
   "outputs": [
    {
     "name": "stdout",
     "output_type": "stream",
     "text": [
      "Model: \"breast_cancer_nn\"\n",
      "_________________________________________________________________\n",
      "Layer (type)                 Output Shape              Param #   \n",
      "=================================================================\n",
      "dense (Dense)                (None, 10)                310       \n",
      "_________________________________________________________________\n",
      "dense_1 (Dense)              (None, 10)                110       \n",
      "_________________________________________________________________\n",
      "dense_2 (Dense)              (None, 1)                 11        \n",
      "=================================================================\n",
      "Total params: 431\n",
      "Trainable params: 431\n",
      "Non-trainable params: 0\n",
      "_________________________________________________________________\n"
     ]
    }
   ],
   "source": [
    "#The first input\n",
    "model = Sequential(name='breast_cancer_nn')\n",
    "\n",
    "#input layer shape = (no. features, )\n",
    "model.add(Input(shape=(X_train.shape[1],)))\n",
    "\n",
    "#hidden layer 1 \n",
    "model.add(Dense(units=10, activation='relu'))\n",
    "\n",
    "#hidden layer 2\n",
    "model.add(Dense(units=10, activation='relu'))\n",
    "\n",
    "#output layer\n",
    "model.add(Dense(units=1, activation='sigmoid'))\n",
    "\n",
    "#summay includeing number of trainable parameters\n",
    "model.summary()\n",
    "          "
   ]
  },
  {
   "cell_type": "markdown",
   "metadata": {},
   "source": [
    "## Training a network\n",
    "\n",
    "For each neuron you can think of the weights as the **strength** of the neuron's **connections** to all of the neurons in the **previous layer**.  The network is initialised with these weights set to **random** values.  The purpose of training is therefore to find the 'best' weights for your prediction problem.   \n",
    "\n",
    "In this context, 'best' means the weights that minimise the training **loss** (sometimes called **cost** or **error**).  Loss is a measure of model fit i.e. a metric quantifying the difference between the predictions from the model and the ground truth observations. For classification models, you will use **Binary Cross-Entropy**.  For each training example, this measure simply takes the -log of the probability the model assigned to the correct label and then averages across all samples.  Or more formally, $$-\\dfrac{1}{N} \\sum_{i=1}^N y_i \\cdot log(p(y_i)) + (1 - y_i) \\cdot log(1 - p(y_i))$$ \n",
    "\n",
    "where $y$ is the 0/1 label and $p(y_i)$ is the probability (0 to 1) assigned to predicting label $i$.  \n",
    "\n",
    "> Note that in a regression model, you would use a loss metric such as **Mean Absolute Error** or **Mean Squared Error**."
   ]
  },
  {
   "cell_type": "code",
   "execution_count": 58,
   "metadata": {},
   "outputs": [
    {
     "data": {
      "text/plain": [
       "array([2.30258509, 1.60943791, 0.22314355, 0.01005034])"
      ]
     },
     "execution_count": 58,
     "metadata": {},
     "output_type": "execute_result"
    }
   ],
   "source": [
    "cost = [0.1, 0.2, 0.8, 0.99]\n",
    "-np.log(cost)"
   ]
  },
  {
   "cell_type": "markdown",
   "metadata": {},
   "source": [
    "### Stochastic Gradient Descent and Backpropagation\n",
    "\n",
    "Think of finding the best weights for your model as a large scale optimisation problem. Even in the simple first model we created there were 400+ parameters to optimise! To minimise these weights an algorithm is needed to estimate the gradient of the loss function and taking a **step** to gradually **decend** it into a local optima. \n",
    "\n",
    "<img src=\"gradient1.png\" alt=\"drawing\" width=\"500\"/>\n",
    "\n",
    "Finding these local optima is achieved using the **backpropagation algorithm** and **stochastic gradient descent**.  After pushing a training sample through our binary classification network we get a single probability of the patient having cancer. We also have the ground truth value labelling if the patient has a malignant tumor or not. Starting from the networks output layer, backprop works backward through each layer of the network to find the weights and biases that correctly classify the patient. This is repeated for all of the training data and the average of these values is the gradient of the loss function with respect to each weight. Repeated enough times the networks weights will converge on solution that minimises the loss. \n",
    "\n",
    "<img src=\"iteration.png\" alt=\"drawing\" width=\"400\"/>\n",
    "\n",
    "For large networks and datasets this is computationally expensive (and possibly infeasible) to run backpropagation against every training sample individually. Therefore we use **stochastic gradient decent (SGD)** to estimate the gradient.  The gradient is estimated by averaging results after breaking the dataset into random **mini-batches** (subsets). This reduces number of computations needed by a substantial amount (and makes large problems tractible).  \n",
    "\n",
    "<img src=\"yanlcun.png\" alt=\"drawing\" width=\"600\"/>\n",
    "\n",
    "The size of the step taken at each iteration is called the **learning rate**. It is used to subtract a fraction of the gradient from the current weights. The learning rate is a hyperparameter and may need tuning.  A tyical starting point is to try powers of 10; for example, 0.1, 0.01, 0.001.  A larger step means that you can descend more quickly!  The downside is that you might overshoot the minimum!  \n",
    "\n",
    "In practice, SGD is not quite so simple and there are a few other concepts and optimisations procedures to appreciate.  The first is that it useful to tweak SGD to have **momentum**. The modification adds a fraction (typically 0.9) of the previous update to weights.  Momentum means that SGD will converge faster. \n",
    "\n",
    "<img src=\"overshoot.png\" alt=\"drawing\" width=\"400\"/>\n",
    "\n",
    "\n",
    "\n",
    "### Training in Keras\n",
    "\n",
    "In Keras, the complexity described above is hidden and you simply **compile** a model and choose an `optimizer` and `loss` function.  You then call the model's `fit` method and pass in the training data, mini batch size (32 is the default) and the number of **epochs** to run.  An epoch is a single pass through all of the training data.  If, for example, there are 1000 points and you are using a mini-batchs of 100 then there are 10 iterations within a single epoch.  You need to run multiple epochs for the network to descend the loss function.\n",
    "\n",
    "I recommend you choose the Adam optimiser.  This is the most popular version of stochastic gradient descent since about 2015.  "
   ]
  },
  {
   "cell_type": "code",
   "execution_count": 65,
   "metadata": {},
   "outputs": [],
   "source": [
    "#set the optimizer, loss function and also report classification accuracy\n",
    "model.compile(optimizer='adam',\n",
    "              loss='binary_crossentropy',\n",
    "              metrics=['accuracy'])\n",
    "\n",
    "#fit the model and include a validation split to check for overfitting. \n",
    "results = model.fit(x=X_train, \n",
    "                    y=y_train, \n",
    "                    batch_size=32,\n",
    "                    validation_split=0.10, \n",
    "                    epochs=200, \n",
    "                    verbose=0)"
   ]
  },
  {
   "cell_type": "code",
   "execution_count": 66,
   "metadata": {},
   "outputs": [
    {
     "data": {
      "text/plain": [
       "<matplotlib.legend.Legend at 0x7f5b582a7250>"
      ]
     },
     "execution_count": 66,
     "metadata": {},
     "output_type": "execute_result"
    },
    {
     "data": {
      "image/png": "[encoded data removed]",
      "text/plain": [
       "<Figure size 864x432 with 1 Axes>"
      ]
     },
     "metadata": {
      "needs_background": "light"
     },
     "output_type": "display_data"
    }
   ],
   "source": [
    "fig, ax = plt.subplots(1, 1, figsize=(12,6))\n",
    "ax.plot(results.history['loss'])\n",
    "ax.plot(results.history['val_loss'])\n",
    "ax.legend(['loss', 'val_loss'])"
   ]
  },
  {
   "cell_type": "code",
   "execution_count": 138,
   "metadata": {},
   "outputs": [
    {
     "data": {
      "text/plain": [
       "<matplotlib.legend.Legend at 0x7fcc8daecc10>"
      ]
     },
     "execution_count": 138,
     "metadata": {},
     "output_type": "execute_result"
    },
    {
     "data": {
      "image/png": "[encoded data removed]",
      "text/plain": [
       "<Figure size 864x432 with 1 Axes>"
      ]
     },
     "metadata": {
      "needs_background": "light"
     },
     "output_type": "display_data"
    }
   ],
   "source": [
    "fig, ax = plt.subplots(1, 1, figsize=(12,6))\n",
    "ax.plot(results.history['accuracy'])\n",
    "ax.plot(results.history['val_accuracy'])\n",
    "ax.legend(['accurracy', 'val accurracy'])"
   ]
  },
  {
   "cell_type": "markdown",
   "metadata": {},
   "source": [
    "# Overfitting\n",
    "\n",
    "Given enough capacity, neural networks will overfit to your training data.  Models that are overfitted have highly variable performance when used for prediction.  Keras provides a couple of simple mechanisms to reduce overfitting: **dropout layers** and **early stopping callbacks**.\n"
   ]
  },
  {
   "cell_type": "code",
   "execution_count": 75,
   "metadata": {},
   "outputs": [],
   "source": [
    "from tensorflow.keras.callbacks import EarlyStopping\n",
    "from tensorflow.keras.layers import Dropout"
   ]
  },
  {
   "cell_type": "code",
   "execution_count": 71,
   "metadata": {},
   "outputs": [],
   "source": [
    "def get_model(input_size, n_hidden=2, n_neurons=10, activation='relu', \n",
    "              dropout=False, d_rate=0.2):\n",
    "    '''\n",
    "    Create a simple Keras feedforward model.\n",
    "    '''\n",
    "    #The first input\n",
    "    model = Sequential(name='breast_cancer_nn')\n",
    "\n",
    "    #input layer.\n",
    "    model.add(Input(shape=(input_size,)))\n",
    "\n",
    "    for i in range(n_hidden):\n",
    "        #hidden layer 1 \n",
    "        model.add(Dense(units=n_neurons, activation=activation))\n",
    "        #include a dropout layer\n",
    "        if dropout:\n",
    "            model.add(Dropout(d_rate))\n",
    "    \n",
    "    #output layer\n",
    "    model.add(Dense(units=1, activation='sigmoid'))\n",
    "    \n",
    "    return model"
   ]
  },
  {
   "cell_type": "code",
   "execution_count": 84,
   "metadata": {},
   "outputs": [
    {
     "name": "stdout",
     "output_type": "stream",
     "text": [
      "Model: \"breast_cancer_nn\"\n",
      "_________________________________________________________________\n",
      "Layer (type)                 Output Shape              Param #   \n",
      "=================================================================\n",
      "dense_35 (Dense)             (None, 32)                992       \n",
      "_________________________________________________________________\n",
      "dropout_12 (Dropout)         (None, 32)                0         \n",
      "_________________________________________________________________\n",
      "dense_36 (Dense)             (None, 32)                1056      \n",
      "_________________________________________________________________\n",
      "dropout_13 (Dropout)         (None, 32)                0         \n",
      "_________________________________________________________________\n",
      "dense_37 (Dense)             (None, 32)                1056      \n",
      "_________________________________________________________________\n",
      "dropout_14 (Dropout)         (None, 32)                0         \n",
      "_________________________________________________________________\n",
      "dense_38 (Dense)             (None, 1)                 33        \n",
      "=================================================================\n",
      "Total params: 3,137\n",
      "Trainable params: 3,137\n",
      "Non-trainable params: 0\n",
      "_________________________________________________________________\n",
      "None\n",
      "Train on 409 samples, validate on 46 samples\n",
      "Epoch 1/200\n",
      "409/409 [==============================] - 1s 2ms/sample - loss: 0.6873 - accuracy: 0.6210 - val_loss: 0.6327 - val_accuracy: 0.6957\n",
      "Epoch 2/200\n",
      "409/409 [==============================] - 0s 194us/sample - loss: 0.6673 - accuracy: 0.6284 - val_loss: 0.6035 - val_accuracy: 0.6957\n",
      "Epoch 3/200\n",
      "409/409 [==============================] - 0s 197us/sample - loss: 0.6251 - accuracy: 0.6675 - val_loss: 0.5592 - val_accuracy: 0.7826\n",
      "Epoch 4/200\n",
      "409/409 [==============================] - 0s 211us/sample - loss: 0.5912 - accuracy: 0.6846 - val_loss: 0.5089 - val_accuracy: 0.8261\n",
      "Epoch 5/200\n",
      "409/409 [==============================] - 0s 210us/sample - loss: 0.5466 - accuracy: 0.7751 - val_loss: 0.4612 - val_accuracy: 0.8478\n",
      "Epoch 6/200\n",
      "409/409 [==============================] - 0s 165us/sample - loss: 0.4820 - accuracy: 0.8240 - val_loss: 0.3921 - val_accuracy: 0.8478\n",
      "Epoch 7/200\n",
      "409/409 [==============================] - 0s 190us/sample - loss: 0.4397 - accuracy: 0.8533 - val_loss: 0.3381 - val_accuracy: 0.8478\n",
      "Epoch 8/200\n",
      "409/409 [==============================] - 0s 244us/sample - loss: 0.3839 - accuracy: 0.8509 - val_loss: 0.2861 - val_accuracy: 0.8478\n",
      "Epoch 9/200\n",
      "409/409 [==============================] - 0s 210us/sample - loss: 0.3203 - accuracy: 0.9095 - val_loss: 0.2536 - val_accuracy: 0.8913\n",
      "Epoch 10/200\n",
      "409/409 [==============================] - 0s 186us/sample - loss: 0.3115 - accuracy: 0.8802 - val_loss: 0.2283 - val_accuracy: 0.9130\n",
      "Epoch 11/200\n",
      "409/409 [==============================] - 0s 173us/sample - loss: 0.2617 - accuracy: 0.8973 - val_loss: 0.2072 - val_accuracy: 0.8478\n",
      "Epoch 12/200\n",
      "409/409 [==============================] - 0s 149us/sample - loss: 0.2353 - accuracy: 0.9242 - val_loss: 0.1945 - val_accuracy: 0.8913\n",
      "Epoch 13/200\n",
      "409/409 [==============================] - 0s 116us/sample - loss: 0.2069 - accuracy: 0.9193 - val_loss: 0.1862 - val_accuracy: 0.8478\n",
      "Epoch 14/200\n",
      "409/409 [==============================] - 0s 207us/sample - loss: 0.2104 - accuracy: 0.9169 - val_loss: 0.1902 - val_accuracy: 0.9130\n",
      "Epoch 15/200\n",
      "409/409 [==============================] - 0s 278us/sample - loss: 0.2059 - accuracy: 0.9144 - val_loss: 0.1624 - val_accuracy: 0.9130\n",
      "Epoch 16/200\n",
      "409/409 [==============================] - 0s 154us/sample - loss: 0.1642 - accuracy: 0.9535 - val_loss: 0.1521 - val_accuracy: 0.9130\n",
      "Epoch 17/200\n",
      "409/409 [==============================] - 0s 362us/sample - loss: 0.1694 - accuracy: 0.9413 - val_loss: 0.1405 - val_accuracy: 0.8913\n",
      "Epoch 18/200\n",
      "409/409 [==============================] - 0s 216us/sample - loss: 0.1717 - accuracy: 0.9389 - val_loss: 0.1463 - val_accuracy: 0.9130\n",
      "Epoch 19/200\n",
      "409/409 [==============================] - 0s 227us/sample - loss: 0.1688 - accuracy: 0.9340 - val_loss: 0.1410 - val_accuracy: 0.9130\n",
      "Epoch 20/200\n",
      "409/409 [==============================] - 0s 256us/sample - loss: 0.1400 - accuracy: 0.9487 - val_loss: 0.1356 - val_accuracy: 0.9130\n",
      "Epoch 21/200\n",
      "409/409 [==============================] - 0s 161us/sample - loss: 0.1559 - accuracy: 0.9413 - val_loss: 0.1271 - val_accuracy: 0.9130\n",
      "Epoch 22/200\n",
      "409/409 [==============================] - 0s 161us/sample - loss: 0.1504 - accuracy: 0.9413 - val_loss: 0.1165 - val_accuracy: 0.9130\n",
      "Epoch 23/200\n",
      "409/409 [==============================] - 0s 148us/sample - loss: 0.1407 - accuracy: 0.9487 - val_loss: 0.1068 - val_accuracy: 0.9565\n",
      "Epoch 24/200\n",
      "409/409 [==============================] - 0s 194us/sample - loss: 0.1321 - accuracy: 0.9560 - val_loss: 0.1183 - val_accuracy: 0.9130\n",
      "Epoch 25/200\n",
      "409/409 [==============================] - 0s 184us/sample - loss: 0.1143 - accuracy: 0.9682 - val_loss: 0.1012 - val_accuracy: 0.9565\n",
      "Epoch 26/200\n",
      "409/409 [==============================] - 0s 217us/sample - loss: 0.1225 - accuracy: 0.9609 - val_loss: 0.1044 - val_accuracy: 0.9348\n",
      "Epoch 27/200\n",
      "409/409 [==============================] - 0s 246us/sample - loss: 0.1190 - accuracy: 0.9584 - val_loss: 0.1039 - val_accuracy: 0.9348\n",
      "Epoch 28/200\n",
      "409/409 [==============================] - 0s 220us/sample - loss: 0.1076 - accuracy: 0.9584 - val_loss: 0.1016 - val_accuracy: 0.9348\n",
      "Epoch 29/200\n",
      "409/409 [==============================] - 0s 467us/sample - loss: 0.1036 - accuracy: 0.9633 - val_loss: 0.1013 - val_accuracy: 0.9348\n",
      "Epoch 30/200\n",
      "409/409 [==============================] - 0s 370us/sample - loss: 0.1098 - accuracy: 0.9633 - val_loss: 0.0904 - val_accuracy: 0.9348\n",
      "Epoch 31/200\n",
      "409/409 [==============================] - 0s 152us/sample - loss: 0.0999 - accuracy: 0.9682 - val_loss: 0.0872 - val_accuracy: 0.9565\n",
      "Epoch 32/200\n",
      "409/409 [==============================] - 0s 160us/sample - loss: 0.0913 - accuracy: 0.9731 - val_loss: 0.1048 - val_accuracy: 0.9348\n",
      "Epoch 33/200\n",
      "409/409 [==============================] - 0s 203us/sample - loss: 0.1141 - accuracy: 0.9535 - val_loss: 0.0827 - val_accuracy: 0.9565\n",
      "Epoch 34/200\n",
      "409/409 [==============================] - 0s 146us/sample - loss: 0.0765 - accuracy: 0.9756 - val_loss: 0.0816 - val_accuracy: 0.9565\n",
      "Epoch 35/200\n",
      "409/409 [==============================] - 0s 281us/sample - loss: 0.0879 - accuracy: 0.9731 - val_loss: 0.0788 - val_accuracy: 0.9783\n",
      "Epoch 36/200\n",
      "409/409 [==============================] - 0s 221us/sample - loss: 0.1066 - accuracy: 0.9584 - val_loss: 0.0786 - val_accuracy: 0.9783\n",
      "Epoch 37/200\n",
      "409/409 [==============================] - 0s 241us/sample - loss: 0.0774 - accuracy: 0.9780 - val_loss: 0.0751 - val_accuracy: 0.9783\n",
      "Epoch 38/200\n",
      "409/409 [==============================] - 0s 270us/sample - loss: 0.0706 - accuracy: 0.9804 - val_loss: 0.0724 - val_accuracy: 0.9783\n",
      "Epoch 39/200\n",
      "409/409 [==============================] - 0s 234us/sample - loss: 0.0731 - accuracy: 0.9829 - val_loss: 0.0706 - val_accuracy: 0.9783\n",
      "Epoch 40/200\n",
      "409/409 [==============================] - 0s 245us/sample - loss: 0.0848 - accuracy: 0.9731 - val_loss: 0.0742 - val_accuracy: 0.9783\n",
      "Epoch 41/200\n",
      "409/409 [==============================] - 0s 212us/sample - loss: 0.0672 - accuracy: 0.9756 - val_loss: 0.0787 - val_accuracy: 0.9565\n",
      "Epoch 42/200\n",
      "409/409 [==============================] - 0s 251us/sample - loss: 0.0687 - accuracy: 0.9756 - val_loss: 0.0687 - val_accuracy: 0.9783\n",
      "Epoch 43/200\n",
      "409/409 [==============================] - 0s 252us/sample - loss: 0.0796 - accuracy: 0.9682 - val_loss: 0.0715 - val_accuracy: 0.9783\n",
      "Epoch 44/200\n",
      "409/409 [==============================] - 0s 218us/sample - loss: 0.0790 - accuracy: 0.9682 - val_loss: 0.0665 - val_accuracy: 0.9783\n",
      "Epoch 45/200\n",
      "409/409 [==============================] - 0s 200us/sample - loss: 0.0571 - accuracy: 0.9829 - val_loss: 0.0740 - val_accuracy: 0.9783\n",
      "Epoch 46/200\n",
      "409/409 [==============================] - 0s 175us/sample - loss: 0.0845 - accuracy: 0.9731 - val_loss: 0.0615 - val_accuracy: 0.9783\n",
      "Epoch 47/200\n",
      "409/409 [==============================] - 0s 231us/sample - loss: 0.0746 - accuracy: 0.9780 - val_loss: 0.0659 - val_accuracy: 0.9783\n",
      "Epoch 48/200\n",
      "409/409 [==============================] - 0s 237us/sample - loss: 0.0660 - accuracy: 0.9829 - val_loss: 0.0719 - val_accuracy: 0.9783\n",
      "Epoch 49/200\n",
      "409/409 [==============================] - 0s 207us/sample - loss: 0.0702 - accuracy: 0.9829 - val_loss: 0.0611 - val_accuracy: 0.9783\n",
      "Epoch 50/200\n",
      "409/409 [==============================] - 0s 164us/sample - loss: 0.0508 - accuracy: 0.9927 - val_loss: 0.0592 - val_accuracy: 1.0000\n",
      "Epoch 51/200\n",
      "409/409 [==============================] - 0s 233us/sample - loss: 0.0561 - accuracy: 0.9780 - val_loss: 0.0854 - val_accuracy: 0.9565\n",
      "Epoch 52/200\n",
      "409/409 [==============================] - 0s 203us/sample - loss: 0.0555 - accuracy: 0.9853 - val_loss: 0.0631 - val_accuracy: 0.9783\n",
      "Epoch 53/200\n",
      "409/409 [==============================] - 0s 181us/sample - loss: 0.0492 - accuracy: 0.9804 - val_loss: 0.0585 - val_accuracy: 1.0000\n",
      "Epoch 54/200\n",
      "409/409 [==============================] - 0s 157us/sample - loss: 0.0754 - accuracy: 0.9658 - val_loss: 0.0770 - val_accuracy: 0.9565\n",
      "Epoch 55/200\n",
      "409/409 [==============================] - 0s 184us/sample - loss: 0.0510 - accuracy: 0.9878 - val_loss: 0.0686 - val_accuracy: 0.9783\n",
      "Epoch 56/200\n",
      "409/409 [==============================] - 0s 282us/sample - loss: 0.0494 - accuracy: 0.9878 - val_loss: 0.0619 - val_accuracy: 0.9783\n",
      "Epoch 57/200\n",
      "409/409 [==============================] - 0s 302us/sample - loss: 0.0476 - accuracy: 0.9878 - val_loss: 0.0603 - val_accuracy: 0.9783\n",
      "Epoch 58/200\n",
      "409/409 [==============================] - 0s 328us/sample - loss: 0.0485 - accuracy: 0.9902 - val_loss: 0.0741 - val_accuracy: 0.9783\n",
      "Epoch 59/200\n",
      "409/409 [==============================] - 0s 241us/sample - loss: 0.0613 - accuracy: 0.9780 - val_loss: 0.0624 - val_accuracy: 0.9783\n",
      "Epoch 60/200\n",
      "409/409 [==============================] - 0s 144us/sample - loss: 0.0653 - accuracy: 0.9756 - val_loss: 0.0758 - val_accuracy: 0.9565\n",
      "Epoch 61/200\n",
      "409/409 [==============================] - 0s 206us/sample - loss: 0.0536 - accuracy: 0.9878 - val_loss: 0.0608 - val_accuracy: 0.9783\n",
      "Epoch 62/200\n",
      "409/409 [==============================] - 0s 307us/sample - loss: 0.0445 - accuracy: 0.9853 - val_loss: 0.0726 - val_accuracy: 0.9565\n",
      "Epoch 63/200\n",
      "409/409 [==============================] - 0s 291us/sample - loss: 0.0633 - accuracy: 0.9756 - val_loss: 0.0606 - val_accuracy: 0.9783\n"
     ]
    },
    {
     "data": {
      "text/plain": [
       "<matplotlib.legend.Legend at 0x7f5ae439c610>"
      ]
     },
     "execution_count": 84,
     "metadata": {},
     "output_type": "execute_result"
    },
    {
     "data": {
      "image/png": "[encoded data removed]",
      "text/plain": [
       "<Figure size 864x432 with 1 Axes>"
      ]
     },
     "metadata": {
      "needs_background": "light"
     },
     "output_type": "display_data"
    }
   ],
   "source": [
    "############ General Parameters ############################\n",
    "\n",
    "N_HIDDEN = 3\n",
    "N_NEURONS = 32\n",
    "N_EPOCHS = 200\n",
    "\n",
    "# 0 fit silently; 1 results per epoch\n",
    "VERBOSE = 1\n",
    "\n",
    "########### Regularization options ########################\n",
    "INCLUDE_DROPOUT = False\n",
    "DROPOUT_RATE = 0.2\n",
    "\n",
    "INCLUDE_EARLY_STOP = False\n",
    "PATIENCE = 5\n",
    "\n",
    "#create an early stopping callback\n",
    "es = EarlyStopping(monitor='val_loss', \n",
    "                   patience=PATIENCE,\n",
    "                   restore_best_weights=True)\n",
    "\n",
    "###########################################################\n",
    "\n",
    "#include early stopping?\n",
    "callbacks = []\n",
    "if INCLUDE_EARLY_STOP:\n",
    "    callbacks.append(es)\n",
    "\n",
    "#get the custom feedforward model\n",
    "model_2 = get_model(input_size=X_train.shape[1], \n",
    "                    n_hidden=N_HIDDEN,\n",
    "                    n_neurons=N_NEURONS,\n",
    "                    dropout=INCLUDE_DROPOUT,\n",
    "                    d_rate=DROPOUT_RATE)\n",
    "\n",
    "#summary to remind us what we have built!\n",
    "print(model_2.summary())\n",
    "\n",
    "#compile the new model\n",
    "model_2.compile(optimizer='adam',\n",
    "                loss='binary_crossentropy',\n",
    "                metrics=['accuracy'])\n",
    "\n",
    "\n",
    "#fit the model and also pass in the callback\n",
    "results = model_2.fit(x=X_train, \n",
    "                      y=y_train, \n",
    "                      batch_size=32,\n",
    "                      validation_split=0.10, \n",
    "                      epochs=N_EPOCHS, \n",
    "                      verbose=VERBOSE,\n",
    "                      callbacks=callbacks)\n",
    "\n",
    "\n",
    "#plot loss and val loss\n",
    "fig, ax = plt.subplots(1, 1, figsize=(12,6))\n",
    "ax.plot(results.history['loss'])\n",
    "ax.plot(results.history['val_loss'])\n",
    "ax.legend(['loss', 'val_loss'])\n"
   ]
  },
  {
   "cell_type": "code",
   "execution_count": 79,
   "metadata": {},
   "outputs": [
    {
     "data": {
      "text/plain": [
       "<matplotlib.legend.Legend at 0x7f5ae43b6cd0>"
      ]
     },
     "execution_count": 79,
     "metadata": {},
     "output_type": "execute_result"
    },
    {
     "data": {
      "image/png": "[encoded data removed]",
      "text/plain": [
       "<Figure size 864x432 with 1 Axes>"
      ]
     },
     "metadata": {
      "needs_background": "light"
     },
     "output_type": "display_data"
    }
   ],
   "source": [
    "# Prediction\n",
    "\n"
   ]
  },
  {
   "cell_type": "code",
   "execution_count": null,
   "metadata": {},
   "outputs": [],
   "source": []
  }
 ],
 "metadata": {
  "kernelspec": {
   "display_name": "Python 3",
   "language": "python",
   "name": "python3"
  },
  "language_info": {
   "codemirror_mode": {
    "name": "ipython",
    "version": 3
   },
   "file_extension": ".py",
   "mimetype": "text/x-python",
   "name": "python",
   "nbconvert_exporter": "python",
   "pygments_lexer": "ipython3",
   "version": "3.7.7"
  }
 },
 "nbformat": 4,
 "nbformat_minor": 4
}
