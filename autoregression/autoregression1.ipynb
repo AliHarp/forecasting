{
 "cells": [
  {
   "cell_type": "markdown",
   "metadata": {},
   "source": [
    "# Autoregressive model using OLS\n",
    "\n",
    "In this notebook we will use Ordinary Least Square (OLS) to fit a linear model to time series data. OLS is a general modelling approach and is not designed specifically with time series in mind.  However, it is easy to adapt and use with autoregressive data.  There are two caveats \n",
    "\n",
    "<div class=\"alert alert-success\">\n",
    "    \n",
    "1. Unlike purpose built time series models such as ARIMA we need to preprocess the data beforehand.\n",
    "\n",
    "2. Forecasting **h-steps** ahead is more involved than other methods.\n",
    "</div>\n",
    "\n",
    " \n",
    "However, OLS itself is very simple to use and the procedures we develop to solve 1 and 2 are exactly what we need to work with Feedforward Neural Networks and Recurrent Neural Networks which we will cover later.\n",
    "\n",
    "---\n",
    "**LEARNING OBJECTIVES**\n",
    "\n",
    "* Mechanics of fitting time series data to an OLS autoregressive model\n",
    "* Generate h-step forecasts using an iterative approach\n",
    "* Generate prediction intervals for an OLS autoregressive model\n",
    "\n",
    "---\n"
   ]
  },
  {
   "cell_type": "markdown",
   "metadata": {},
   "source": [
    "## 1. Python dependencies\n",
    "\n",
    "It is recommended that you use the forecasting course conda environment provided for this work.  The implementation of Ordinary Least Squares Regression that we are going to use is in `statsmodels`.  You should be using at least version `0.11.1`"
   ]
  },
  {
   "cell_type": "code",
   "execution_count": 61,
   "metadata": {},
   "outputs": [
    {
     "data": {
      "text/plain": [
       "'0.11.1'"
      ]
     },
     "execution_count": 61,
     "metadata": {},
     "output_type": "execute_result"
    }
   ],
   "source": [
    "import statsmodels.api as sm\n",
    "import numpy as np\n",
    "import pandas as pd\n",
    "import matplotlib.pyplot as plt\n",
    "sm.__version__"
   ]
  },
  {
   "cell_type": "markdown",
   "metadata": {},
   "source": [
    "The `statsmodels` package has a class for OLS that we are going to use.\n",
    "\n",
    "```python \n",
    "statsmodels.regression.linear_model.OLS \n",
    "```"
   ]
  },
  {
   "cell_type": "code",
   "execution_count": 2,
   "metadata": {},
   "outputs": [],
   "source": [
    "from statsmodels.regression.linear_model import OLS"
   ]
  },
  {
   "cell_type": "markdown",
   "metadata": {},
   "source": [
    "## 2. AR OLS: The forecasting process\n",
    "\n",
    "1. Select $l$ the number of autoregressive lags and forecast horizon $h$\n",
    "2. Preprocess the data into tabular form [[$lag_1, lag_2, ... lag_l$], [$y_t$]]\n",
    "3. Fit the OLS model to the tabular data\n",
    "4. Iteratively forecast 1-step ahead gradually replacing ground truth observations with predictions.\n",
    "\n",
    "\n",
    "### 2.1 Synthetic data without noise\n",
    "\n",
    "Given the extra complexities of forecasting using OLS we will use simple synthetic data before exploring real healthcare data. The synthetic data we wil use is a cosine.  "
   ]
  },
  {
   "cell_type": "code",
   "execution_count": 64,
   "metadata": {},
   "outputs": [],
   "source": [
    "t = np.arange(200)\n",
    "ts_data = np.cos(0.2 * t)"
   ]
  },
  {
   "cell_type": "code",
   "execution_count": 65,
   "metadata": {},
   "outputs": [
    {
     "data": {
      "image/png": "[encoded data removed]",
      "text/plain": [
       "<Figure size 432x288 with 1 Axes>"
      ]
     },
     "metadata": {
      "needs_background": "light"
     },
     "output_type": "display_data"
    }
   ],
   "source": [
    "plt.plot(ts_data);"
   ]
  },
  {
   "cell_type": "markdown",
   "metadata": {},
   "source": [
    "## 2.2. Preprocess the time series into tabular autoregressive form\n",
    "\n",
    "An autoregressive model consists of $l$ lags of the time series. \n",
    "\n",
    "An easy way to think about the form of the data for a autoregressive OLS model is as a table of variables.  The first $l$ columns are the lags (the independent predictor variables) and the final column is $y$ at time $t$ ($y_t$) that is, the target/dependent variable.  \n",
    "\n",
    "We there need to manipulate the time series so that is now in that format.  More precisely for each row we need: \n",
    "\n",
    "**A vector presenting the lags at time t**\n",
    "* $X_t = $ [$lag_{t-l}, ... lag_{t-2}, lag_{t-1}$]\n",
    "\n",
    "**A scalar value representing y at time t:**\n",
    "* $y_t$\n",
    "\n",
    "For training we need a vector of rows ($X_t$) and vector of target $y_t$. e.g.\n",
    "\n",
    "```python\n",
    "X_train = [X_1, X_2, X_3, ...,  X_t]\n",
    "\n",
    "y_train = [y_1, y_2, y_3, ..., y_t]\n",
    "```\n",
    "---\n",
    "\n",
    "The function `sliding_window` illustrates how to preprocess time series data into tabular form  in python."
   ]
  },
  {
   "cell_type": "code",
   "execution_count": 41,
   "metadata": {},
   "outputs": [],
   "source": [
    "def sliding_window(train, window_size=2, horizon=1):\n",
    "    '''\n",
    "    sliding window.\n",
    "    \n",
    "    Parameters:\n",
    "    --------\n",
    "    train: array-like\n",
    "        training data for time series method\n",
    "    \n",
    "    window_size: int, optional (default=2)\n",
    "        lookback - how much lagged data to include.\n",
    "        \n",
    "    horizon: int, optional (default=1)\n",
    "        number of observations ahead to predict\n",
    "            \n",
    "    Returns:\n",
    "        array-like, array-like\n",
    "    \n",
    "        preprocessed X, preprocessed Y\n",
    "    '''\n",
    "    tabular_X = []\n",
    "    tabular_y = []\n",
    "    for i in range(0, len(train) - window_size - horizon + 1):\n",
    "        X_train = train[i:window_size+i]\n",
    "        y_train = train[i+window_size:window_size+i+horizon]\n",
    "        tabular_X.append(X_train)\n",
    "        tabular_y.append(y_train)\n",
    "        \n",
    "    return np.asarray(tabular_X), np.asarray(tabular_y)"
   ]
  },
  {
   "cell_type": "code",
   "execution_count": 66,
   "metadata": {},
   "outputs": [],
   "source": [
    "#Let's do a train test split first\n",
    "train = ts_data[:175]\n",
    "test = ts_data[175:]\n",
    "\n",
    "#preprocess time series training and test sets\n",
    "X_train, y_train = sliding_window(train, window_size=2)\n",
    "X_test, y_test = sliding_window(test, window_size=2)"
   ]
  },
  {
   "cell_type": "code",
   "execution_count": 67,
   "metadata": {},
   "outputs": [
    {
     "name": "stdout",
     "output_type": "stream",
     "text": [
      "(173, 2)\n",
      "(173, 1)\n"
     ]
    }
   ],
   "source": [
    "print(X_train.shape)\n",
    "print(y_train.shape)"
   ]
  },
  {
   "cell_type": "markdown",
   "metadata": {},
   "source": [
    "The preprocessing included 2 lags.  So let's have a look at how the first elements in `X_train` and `y_train` compare to the first three elements of `ts_data`"
   ]
  },
  {
   "cell_type": "code",
   "execution_count": 68,
   "metadata": {},
   "outputs": [
    {
     "name": "stdout",
     "output_type": "stream",
     "text": [
      "ts_data[:3]: [1.         0.98006658 0.92106099]\n",
      "X_train[0]: [1.         0.98006658]\n",
      "y_train[0]: [0.92106099]\n"
     ]
    }
   ],
   "source": [
    "print(f'ts_data[:3]: {ts_data[:3]}')\n",
    "print(f'X_train[0]: {X_train[0]}')\n",
    "print(f'y_train[0]: {y_train[0]}')"
   ]
  },
  {
   "cell_type": "markdown",
   "metadata": {},
   "source": [
    "Just to prove this is work let's manually slide out window of lag size 2 along `ts_data` to see how it compares with the next element in `X_train` and `y_train`"
   ]
  },
  {
   "cell_type": "code",
   "execution_count": 69,
   "metadata": {},
   "outputs": [
    {
     "name": "stdout",
     "output_type": "stream",
     "text": [
      "ts_data[1:4]: [0.98006658 0.92106099 0.82533561]\n",
      "X_train[1]: [0.98006658 0.92106099]\n",
      "y_train[1]: [0.82533561]\n"
     ]
    }
   ],
   "source": [
    "print(f'ts_data[1:4]: {ts_data[1:4]}')\n",
    "print(f'X_train[1]: {X_train[1]}')\n",
    "print(f'y_train[1]: {y_train[1]}')"
   ]
  },
  {
   "cell_type": "markdown",
   "metadata": {},
   "source": [
    "## 2.3 Fit the preprocessed data to the OLS model\n",
    "\n",
    "After preprocessing the data, fitting the data is relatively straightforward.  We create an instance of `OLS` passing in the training data and call the `.fit()` method.  The method fit returns a `RegressionResults` object that we use for prediction.  We can called the `.summary()` method to see the fitted model."
   ]
  },
  {
   "cell_type": "code",
   "execution_count": 70,
   "metadata": {},
   "outputs": [
    {
     "data": {
      "text/html": [
       "<table class=\"simpletable\">\n",
       "<caption>OLS Regression Results</caption>\n",
       "<tr>\n",
       "  <th>Dep. Variable:</th>            <td>y</td>        <th>  R-squared:         </th>  <td>   1.000</td> \n",
       "</tr>\n",
       "<tr>\n",
       "  <th>Model:</th>                   <td>OLS</td>       <th>  Adj. R-squared:    </th>  <td>   1.000</td> \n",
       "</tr>\n",
       "<tr>\n",
       "  <th>Method:</th>             <td>Least Squares</td>  <th>  F-statistic:       </th>  <td>1.380e+31</td>\n",
       "</tr>\n",
       "<tr>\n",
       "  <th>Date:</th>             <td>Sat, 16 May 2020</td> <th>  Prob (F-statistic):</th>   <td>  0.00</td>  \n",
       "</tr>\n",
       "<tr>\n",
       "  <th>Time:</th>                 <td>13:14:32</td>     <th>  Log-Likelihood:    </th>  <td>  5632.4</td> \n",
       "</tr>\n",
       "<tr>\n",
       "  <th>No. Observations:</th>      <td>   173</td>      <th>  AIC:               </th> <td>-1.126e+04</td>\n",
       "</tr>\n",
       "<tr>\n",
       "  <th>Df Residuals:</th>          <td>   170</td>      <th>  BIC:               </th> <td>-1.125e+04</td>\n",
       "</tr>\n",
       "<tr>\n",
       "  <th>Df Model:</th>              <td>     2</td>      <th>                     </th>      <td> </td>    \n",
       "</tr>\n",
       "<tr>\n",
       "  <th>Covariance Type:</th>      <td>nonrobust</td>    <th>                     </th>      <td> </td>    \n",
       "</tr>\n",
       "</table>\n",
       "<table class=\"simpletable\">\n",
       "<tr>\n",
       "    <td></td>       <th>coef</th>     <th>std err</th>      <th>t</th>      <th>P>|t|</th>  <th>[0.025</th>    <th>0.975]</th>  \n",
       "</tr>\n",
       "<tr>\n",
       "  <th>const</th> <td>-2.689e-17</td> <td> 1.35e-16</td> <td>   -0.199</td> <td> 0.842</td> <td>-2.94e-16</td> <td>  2.4e-16</td>\n",
       "</tr>\n",
       "<tr>\n",
       "  <th>x1</th>    <td>   -1.0000</td> <td> 9.62e-16</td> <td>-1.04e+15</td> <td> 0.000</td> <td>   -1.000</td> <td>   -1.000</td>\n",
       "</tr>\n",
       "<tr>\n",
       "  <th>x2</th>    <td>    1.9601</td> <td> 9.62e-16</td> <td> 2.04e+15</td> <td> 0.000</td> <td>    1.960</td> <td>    1.960</td>\n",
       "</tr>\n",
       "</table>\n",
       "<table class=\"simpletable\">\n",
       "<tr>\n",
       "  <th>Omnibus:</th>       <td>25.455</td> <th>  Durbin-Watson:     </th> <td>   3.296</td>\n",
       "</tr>\n",
       "<tr>\n",
       "  <th>Prob(Omnibus):</th> <td> 0.000</td> <th>  Jarque-Bera (JB):  </th> <td> 157.658</td>\n",
       "</tr>\n",
       "<tr>\n",
       "  <th>Skew:</th>          <td> 0.003</td> <th>  Prob(JB):          </th> <td>5.82e-35</td>\n",
       "</tr>\n",
       "<tr>\n",
       "  <th>Kurtosis:</th>      <td> 7.677</td> <th>  Cond. No.          </th> <td>    10.1</td>\n",
       "</tr>\n",
       "</table><br/><br/>Warnings:<br/>[1] Standard Errors assume that the covariance matrix of the errors is correctly specified."
      ],
      "text/plain": [
       "<class 'statsmodels.iolib.summary.Summary'>\n",
       "\"\"\"\n",
       "                            OLS Regression Results                            \n",
       "==============================================================================\n",
       "Dep. Variable:                      y   R-squared:                       1.000\n",
       "Model:                            OLS   Adj. R-squared:                  1.000\n",
       "Method:                 Least Squares   F-statistic:                 1.380e+31\n",
       "Date:                Sat, 16 May 2020   Prob (F-statistic):               0.00\n",
       "Time:                        13:14:32   Log-Likelihood:                 5632.4\n",
       "No. Observations:                 173   AIC:                        -1.126e+04\n",
       "Df Residuals:                     170   BIC:                        -1.125e+04\n",
       "Df Model:                           2                                         \n",
       "Covariance Type:            nonrobust                                         \n",
       "==============================================================================\n",
       "                 coef    std err          t      P>|t|      [0.025      0.975]\n",
       "------------------------------------------------------------------------------\n",
       "const      -2.689e-17   1.35e-16     -0.199      0.842   -2.94e-16     2.4e-16\n",
       "x1            -1.0000   9.62e-16  -1.04e+15      0.000      -1.000      -1.000\n",
       "x2             1.9601   9.62e-16   2.04e+15      0.000       1.960       1.960\n",
       "==============================================================================\n",
       "Omnibus:                       25.455   Durbin-Watson:                   3.296\n",
       "Prob(Omnibus):                  0.000   Jarque-Bera (JB):              157.658\n",
       "Skew:                           0.003   Prob(JB):                     5.82e-35\n",
       "Kurtosis:                       7.677   Cond. No.                         10.1\n",
       "==============================================================================\n",
       "\n",
       "Warnings:\n",
       "[1] Standard Errors assume that the covariance matrix of the errors is correctly specified.\n",
       "\"\"\""
      ]
     },
     "execution_count": 70,
     "metadata": {},
     "output_type": "execute_result"
    }
   ],
   "source": [
    "X_train = sm.add_constant(X_train)\n",
    "model = OLS(endog=y_train, exog=X_train).fit()\n",
    "\n",
    "#see the regression results (not the adj. R squared!)\n",
    "model.summary()"
   ]
  },
  {
   "cell_type": "markdown",
   "metadata": {},
   "source": [
    "## 2.4 Forecasting 1 step ahead\n",
    "\n",
    "To forecast 1-step ahead we use the `RegressionResults` method `.predict(exog)`.  For example if we wanted to forecast the first y observation in the test set."
   ]
  },
  {
   "cell_type": "code",
   "execution_count": 79,
   "metadata": {},
   "outputs": [
    {
     "name": "stdout",
     "output_type": "stream",
     "text": [
      "1-step forecast: -0.665613455333755\n",
      "ground trust value: -0.6656134553337595\n"
     ]
    }
   ],
   "source": [
    "X_test = sm.add_constant(X_test)\n",
    "pred = model.predict(exog=X_test[0])[0]\n",
    "print(f'1-step forecast: {pred}')\n",
    "print(f'ground trust value: {y_test[0][0]}')\n"
   ]
  },
  {
   "cell_type": "markdown",
   "metadata": {},
   "source": [
    "An alternative way to call predict is to use `.get_prediction(exog)` to get a `PredictionResults` object.  This has the nice method `.summary_frame(alpha=0.05)` that can be used to get a dataframe complete with prediction interval."
   ]
  },
  {
   "cell_type": "code",
   "execution_count": 92,
   "metadata": {},
   "outputs": [
    {
     "data": {
      "text/html": [
       "<div>\n",
       "<style scoped>\n",
       "    .dataframe tbody tr th:only-of-type {\n",
       "        vertical-align: middle;\n",
       "    }\n",
       "\n",
       "    .dataframe tbody tr th {\n",
       "        vertical-align: top;\n",
       "    }\n",
       "\n",
       "    .dataframe thead th {\n",
       "        text-align: right;\n",
       "    }\n",
       "</style>\n",
       "<table border=\"1\" class=\"dataframe\">\n",
       "  <thead>\n",
       "    <tr style=\"text-align: right;\">\n",
       "      <th></th>\n",
       "      <th>mean</th>\n",
       "      <th>mean_se</th>\n",
       "      <th>mean_ci_lower</th>\n",
       "      <th>mean_ci_upper</th>\n",
       "      <th>obs_ci_lower</th>\n",
       "      <th>obs_ci_upper</th>\n",
       "    </tr>\n",
       "  </thead>\n",
       "  <tbody>\n",
       "    <tr>\n",
       "      <th>0</th>\n",
       "      <td>-0.665613</td>\n",
       "      <td>2.379594e-16</td>\n",
       "      <td>-0.665613</td>\n",
       "      <td>-0.665613</td>\n",
       "      <td>-0.665613</td>\n",
       "      <td>-0.665613</td>\n",
       "    </tr>\n",
       "  </tbody>\n",
       "</table>\n",
       "</div>"
      ],
      "text/plain": [
       "       mean       mean_se  mean_ci_lower  mean_ci_upper  obs_ci_lower  \\\n",
       "0 -0.665613  2.379594e-16      -0.665613      -0.665613     -0.665613   \n",
       "\n",
       "   obs_ci_upper  \n",
       "0     -0.665613  "
      ]
     },
     "execution_count": 92,
     "metadata": {},
     "output_type": "execute_result"
    }
   ],
   "source": [
    "results = model.get_prediction(exog=X_test[0])\n",
    "results.summary_frame(alpha=0.2)"
   ]
  },
  {
   "cell_type": "markdown",
   "metadata": {},
   "source": [
    "## 2.4 Forecast h periods ahead using the iterative method.\n",
    "\n",
    "**We have trained our `OLS` model to predict 1-step** ahead by regressing the previous two observations in the time series.  When forecasting 2 or more steps ahead we still only have two ground truth observations ($lag_1$ and $lag_2$). This means that when forecasting h-steps ahead we need to do this in a loop where we iteratively replace our ground truth observations with our predictions."
   ]
  },
  {
   "cell_type": "code",
   "execution_count": 86,
   "metadata": {},
   "outputs": [
    {
     "data": {
      "text/plain": [
       "array([2, 3, 4, 1])"
      ]
     },
     "execution_count": 86,
     "metadata": {},
     "output_type": "execute_result"
    }
   ],
   "source": [
    "current_X = np.array([1, 2, 3, 4])\n",
    "current_X = np.roll(current_X, shift=-1)\n",
    "current_X"
   ]
  },
  {
   "cell_type": "code",
   "execution_count": 87,
   "metadata": {},
   "outputs": [
    {
     "data": {
      "text/plain": [
       "array([  2,   3,   4, 999])"
      ]
     },
     "execution_count": 87,
     "metadata": {},
     "output_type": "execute_result"
    }
   ],
   "source": [
    "y_pred = 999\n",
    "current_X = np.array([1, 2, 3, 4])\n",
    "current_X = np.roll(current_X, shift=-1)\n",
    "current_X[-1] = y_pred\n",
    "current_X\n"
   ]
  },
  {
   "cell_type": "code",
   "execution_count": 213,
   "metadata": {},
   "outputs": [],
   "source": [
    "def autoregressive_iterative_forecast(model, exog, h):\n",
    "    '''\n",
    "    h-step forecast for an autoregressive \n",
    "    model using the iterative prediction method.\n",
    "    \n",
    "    Conduct h one-step forecasts gradually\n",
    "    replacing ground truth autoregressive X \n",
    "    values with predictions.\n",
    "    \n",
    "    Parameters:\n",
    "    ------\n",
    "    model: forecast object\n",
    "        model that has a .predict(h) interface\n",
    "        \n",
    "    exog: array-like\n",
    "        initial vector of lagged values (X)\n",
    "    \n",
    "    h: int\n",
    "        forecast horizon. assumed to be > 0\n",
    "    \n",
    "    Returns:\n",
    "    ------\n",
    "    numpy.ndarray\n",
    "        y_predictions\n",
    "    '''\n",
    "    y_preds = []\n",
    "    current_X = exog\n",
    "    for i in range(h):\n",
    "        y_pred = model.predict(current_X)[0]\n",
    "        y_preds.append(y_pred)\n",
    "\n",
    "        current_X = np.roll(current_X, shift=-1)\n",
    "        current_X[-1] = y_pred\n",
    "        print(current_X)\n",
    "\n",
    "    return np.array(y_preds)"
   ]
  },
  {
   "cell_type": "code",
   "execution_count": 123,
   "metadata": {},
   "outputs": [
    {
     "name": "stdout",
     "output_type": "stream",
     "text": [
      "Iterative forecast: [-0.66561346 -0.50407924 -0.32244898 -0.12796369  0.07162311]\n",
      "Ground truth y: [-0.66561346 -0.50407924 -0.32244898 -0.12796369  0.07162311]\n"
     ]
    }
   ],
   "source": [
    "H = 5\n",
    "y_preds = autoregressive_iterative_forecast(model, X_test[0], h=H)\n",
    "print(f'Iterative forecast: {y_preds}')\n",
    "print(f'Ground truth y: {y_test[:H].T[0]}')"
   ]
  },
  {
   "cell_type": "markdown",
   "metadata": {},
   "source": [
    "#### Adding some noise"
   ]
  },
  {
   "cell_type": "markdown",
   "metadata": {},
   "source": [
    "To make this a bit more interesting we will add some normally distributed noise to the synthetic time series."
   ]
  },
  {
   "cell_type": "code",
   "execution_count": 207,
   "metadata": {},
   "outputs": [
    {
     "data": {
      "image/png": "[encoded data removed]",
      "text/plain": [
       "<Figure size 432x288 with 1 Axes>"
      ]
     },
     "metadata": {
      "needs_background": "light"
     },
     "output_type": "display_data"
    }
   ],
   "source": [
    "#set the random seed so that we all get the same results\n",
    "np.random.seed(12)\n",
    "t = np.arange(200)\n",
    "ts_data = np.cos(0.2 * t)\n",
    "noise = np.random.normal(loc=0.0, scale=0.3, size=200)\n",
    "ts_data = ts_data + noise\n",
    "plt.plot(ts_data);"
   ]
  },
  {
   "cell_type": "code",
   "execution_count": 214,
   "metadata": {},
   "outputs": [
    {
     "name": "stdout",
     "output_type": "stream",
     "text": [
      "X_train.shape: (146, 4)\n",
      "X_test.shape: (46, 4)\n"
     ]
    },
    {
     "data": {
      "text/html": [
       "<table class=\"simpletable\">\n",
       "<caption>OLS Regression Results</caption>\n",
       "<tr>\n",
       "  <th>Dep. Variable:</th>            <td>y</td>        <th>  R-squared:         </th> <td>   0.654</td>\n",
       "</tr>\n",
       "<tr>\n",
       "  <th>Model:</th>                   <td>OLS</td>       <th>  Adj. R-squared:    </th> <td>   0.644</td>\n",
       "</tr>\n",
       "<tr>\n",
       "  <th>Method:</th>             <td>Least Squares</td>  <th>  F-statistic:       </th> <td>   66.72</td>\n",
       "</tr>\n",
       "<tr>\n",
       "  <th>Date:</th>             <td>Sat, 16 May 2020</td> <th>  Prob (F-statistic):</th> <td>1.42e-31</td>\n",
       "</tr>\n",
       "<tr>\n",
       "  <th>Time:</th>                 <td>15:45:36</td>     <th>  Log-Likelihood:    </th> <td> -80.859</td>\n",
       "</tr>\n",
       "<tr>\n",
       "  <th>No. Observations:</th>      <td>   146</td>      <th>  AIC:               </th> <td>   171.7</td>\n",
       "</tr>\n",
       "<tr>\n",
       "  <th>Df Residuals:</th>          <td>   141</td>      <th>  BIC:               </th> <td>   186.6</td>\n",
       "</tr>\n",
       "<tr>\n",
       "  <th>Df Model:</th>              <td>     4</td>      <th>                     </th>     <td> </td>   \n",
       "</tr>\n",
       "<tr>\n",
       "  <th>Covariance Type:</th>      <td>nonrobust</td>    <th>                     </th>     <td> </td>   \n",
       "</tr>\n",
       "</table>\n",
       "<table class=\"simpletable\">\n",
       "<tr>\n",
       "    <td></td>       <th>coef</th>     <th>std err</th>      <th>t</th>      <th>P>|t|</th>  <th>[0.025</th>    <th>0.975]</th>  \n",
       "</tr>\n",
       "<tr>\n",
       "  <th>const</th> <td>   -0.0184</td> <td>    0.036</td> <td>   -0.517</td> <td> 0.606</td> <td>   -0.089</td> <td>    0.052</td>\n",
       "</tr>\n",
       "<tr>\n",
       "  <th>x1</th>    <td>   -0.1221</td> <td>    0.083</td> <td>   -1.479</td> <td> 0.142</td> <td>   -0.285</td> <td>    0.041</td>\n",
       "</tr>\n",
       "<tr>\n",
       "  <th>x2</th>    <td>    0.1538</td> <td>    0.092</td> <td>    1.675</td> <td> 0.096</td> <td>   -0.028</td> <td>    0.335</td>\n",
       "</tr>\n",
       "<tr>\n",
       "  <th>x3</th>    <td>    0.3229</td> <td>    0.092</td> <td>    3.514</td> <td> 0.001</td> <td>    0.141</td> <td>    0.505</td>\n",
       "</tr>\n",
       "<tr>\n",
       "  <th>x4</th>    <td>    0.4917</td> <td>    0.083</td> <td>    5.905</td> <td> 0.000</td> <td>    0.327</td> <td>    0.656</td>\n",
       "</tr>\n",
       "</table>\n",
       "<table class=\"simpletable\">\n",
       "<tr>\n",
       "  <th>Omnibus:</th>       <td> 2.192</td> <th>  Durbin-Watson:     </th> <td>   2.031</td>\n",
       "</tr>\n",
       "<tr>\n",
       "  <th>Prob(Omnibus):</th> <td> 0.334</td> <th>  Jarque-Bera (JB):  </th> <td>   1.794</td>\n",
       "</tr>\n",
       "<tr>\n",
       "  <th>Skew:</th>          <td>-0.258</td> <th>  Prob(JB):          </th> <td>   0.408</td>\n",
       "</tr>\n",
       "<tr>\n",
       "  <th>Kurtosis:</th>      <td> 3.166</td> <th>  Cond. No.          </th> <td>    3.99</td>\n",
       "</tr>\n",
       "</table><br/><br/>Warnings:<br/>[1] Standard Errors assume that the covariance matrix of the errors is correctly specified."
      ],
      "text/plain": [
       "<class 'statsmodels.iolib.summary.Summary'>\n",
       "\"\"\"\n",
       "                            OLS Regression Results                            \n",
       "==============================================================================\n",
       "Dep. Variable:                      y   R-squared:                       0.654\n",
       "Model:                            OLS   Adj. R-squared:                  0.644\n",
       "Method:                 Least Squares   F-statistic:                     66.72\n",
       "Date:                Sat, 16 May 2020   Prob (F-statistic):           1.42e-31\n",
       "Time:                        15:45:36   Log-Likelihood:                -80.859\n",
       "No. Observations:                 146   AIC:                             171.7\n",
       "Df Residuals:                     141   BIC:                             186.6\n",
       "Df Model:                           4                                         \n",
       "Covariance Type:            nonrobust                                         \n",
       "==============================================================================\n",
       "                 coef    std err          t      P>|t|      [0.025      0.975]\n",
       "------------------------------------------------------------------------------\n",
       "const         -0.0184      0.036     -0.517      0.606      -0.089       0.052\n",
       "x1            -0.1221      0.083     -1.479      0.142      -0.285       0.041\n",
       "x2             0.1538      0.092      1.675      0.096      -0.028       0.335\n",
       "x3             0.3229      0.092      3.514      0.001       0.141       0.505\n",
       "x4             0.4917      0.083      5.905      0.000       0.327       0.656\n",
       "==============================================================================\n",
       "Omnibus:                        2.192   Durbin-Watson:                   2.031\n",
       "Prob(Omnibus):                  0.334   Jarque-Bera (JB):                1.794\n",
       "Skew:                          -0.258   Prob(JB):                        0.408\n",
       "Kurtosis:                       3.166   Cond. No.                         3.99\n",
       "==============================================================================\n",
       "\n",
       "Warnings:\n",
       "[1] Standard Errors assume that the covariance matrix of the errors is correctly specified.\n",
       "\"\"\""
      ]
     },
     "execution_count": 214,
     "metadata": {},
     "output_type": "execute_result"
    }
   ],
   "source": [
    "LAGS = 4\n",
    "\n",
    "#train test split 150 and 50\n",
    "train, test = ts_data[:150], ts_data[150:]\n",
    "\n",
    "#preprocess time series training and test sets\n",
    "X_train, y_train = sliding_window(train, window_size=LAGS)\n",
    "X_test, y_test = sliding_window(test, window_size=LAGS)\n",
    "\n",
    "print(f'X_train.shape: {X_train.shape}')\n",
    "print(f'X_test.shape: {X_test.shape}')\n",
    "\n",
    "X_train = sm.add_constant(X_train)\n",
    "model = OLS(endog=y_train, exog=X_train).fit()\n",
    "\n",
    "#see the regression results (note the difference in adj. R squared!)\n",
    "model.summary()"
   ]
  },
  {
   "cell_type": "code",
   "execution_count": 215,
   "metadata": {},
   "outputs": [
    {
     "data": {
      "image/png": "[encoded data removed]",
      "text/plain": [
       "<Figure size 432x288 with 1 Axes>"
      ]
     },
     "metadata": {
      "needs_background": "light"
     },
     "output_type": "display_data"
    }
   ],
   "source": [
    "plt.plot(ts_data[LAGS+1:], label='ground truth')\n",
    "plt.plot(model.fittedvalues, label='AR OLS fitted')\n",
    "plt.legend();"
   ]
  },
  {
   "cell_type": "code",
   "execution_count": 216,
   "metadata": {},
   "outputs": [
    {
     "name": "stdout",
     "output_type": "stream",
     "text": [
      "[-0.39748134  0.36660189  0.3126422   0.51662844  0.44149838]\n",
      "[0.36660189 0.3126422  0.51662844 0.44149838 0.39457669]\n",
      "[0.3126422  0.51662844 0.44149838 0.39457669 0.37112308]\n",
      "[0.51662844 0.44149838 0.39457669 0.37112308 0.30896137]\n",
      "[0.44149838 0.39457669 0.37112308 0.30896137 0.26901715]\n",
      "[0.39457669 0.37112308 0.30896137 0.26901715 0.23281069]\n",
      "[0.37112308 0.30896137 0.26901715 0.23281069 0.1962753 ]\n",
      "[0.30896137 0.26901715 0.23281069 0.1962753  0.16849797]\n",
      "[0.26901715 0.23281069 0.1962753  0.16849797 0.14349627]\n",
      "[0.23281069 0.1962753  0.16849797 0.14349627 0.12177071]\n",
      "[0.1962753  0.16849797 0.14349627 0.12177071 0.10387099]\n",
      "[0.16849797 0.14349627 0.12177071 0.10387099 0.08827384]\n",
      "[0.14349627 0.12177071 0.10387099 0.08827384 0.07504783]\n",
      "[0.12177071 0.10387099 0.08827384 0.07504783 0.06386855]\n",
      "[0.10387099 0.08827384 0.07504783 0.06386855 0.05428792]\n",
      "[0.08827384 0.07504783 0.06386855 0.05428792 0.0461673 ]\n",
      "[0.07504783 0.06386855 0.05428792 0.0461673  0.03926363]\n",
      "[0.06386855 0.05428792 0.0461673  0.03926363 0.03338207]\n",
      "[0.05428792 0.0461673  0.03926363 0.03338207 0.02838768]\n",
      "[0.0461673  0.03926363 0.03338207 0.02838768 0.02413901]\n",
      "[0.03926363 0.03338207 0.02838768 0.02413901 0.02052518]\n",
      "[0.03338207 0.02838768 0.02413901 0.02052518 0.01745354]\n",
      "[0.02838768 0.02413901 0.02052518 0.01745354 0.01484102]\n",
      "[0.02413901 0.02052518 0.01745354 0.01484102 0.01261957]\n",
      "[0.02052518 0.01745354 0.01484102 0.01261957 0.01073079]\n",
      "[0.01745354 0.01484102 0.01261957 0.01073079 0.00912457]\n",
      "[0.01484102 0.01261957 0.01073079 0.00912457 0.00775882]\n",
      "[0.01261957 0.01073079 0.00912457 0.00775882 0.00659751]\n",
      "[0.01073079 0.00912457 0.00775882 0.00659751 0.00560999]\n",
      "[0.00912457 0.00775882 0.00659751 0.00560999 0.0047703 ]\n",
      "[0.00775882 0.00659751 0.00560999 0.0047703  0.00405629]\n",
      "[0.00659751 0.00560999 0.0047703  0.00405629 0.00344915]\n",
      "[0.00560999 0.0047703  0.00405629 0.00344915 0.00293288]\n",
      "[0.0047703  0.00405629 0.00344915 0.00293288 0.00249389]\n",
      "[0.00405629 0.00344915 0.00293288 0.00249389 0.00212061]\n",
      "[0.00344915 0.00293288 0.00249389 0.00212061 0.0018032 ]\n",
      "[0.00293288 0.00249389 0.00212061 0.0018032  0.0015333 ]\n",
      "[0.00249389 0.00212061 0.0018032  0.0015333  0.0013038 ]\n",
      "[0.00212061 0.0018032  0.0015333  0.0013038  0.00110865]\n",
      "[0.0018032  0.0015333  0.0013038  0.00110865 0.00094271]\n",
      "[0.0015333  0.0013038  0.00110865 0.00094271 0.0008016 ]\n",
      "[0.0013038  0.00110865 0.00094271 0.0008016  0.00068162]\n",
      "[0.00110865 0.00094271 0.0008016  0.00068162 0.0005796 ]\n",
      "[0.00094271 0.0008016  0.00068162 0.0005796  0.00049284]\n",
      "[0.0008016  0.00068162 0.0005796  0.00049284 0.00041908]\n",
      "[0.00068162 0.0005796  0.00049284 0.00041908 0.00035635]\n"
     ]
    },
    {
     "data": {
      "text/plain": [
       "<matplotlib.legend.Legend at 0x7efdfcbd9dc0>"
      ]
     },
     "execution_count": 216,
     "metadata": {},
     "output_type": "execute_result"
    },
    {
     "data": {
      "image/png": "[encoded data removed]",
      "text/plain": [
       "<Figure size 432x288 with 1 Axes>"
      ]
     },
     "metadata": {
      "needs_background": "light"
     },
     "output_type": "display_data"
    }
   ],
   "source": [
    "H = len(y_test)\n",
    "X_test = sm.add_constant(X_test)\n",
    "y_preds = autoregressive_iterative_forecast(model, X_test[0], h=H)\n",
    "plt.plot(y_preds, label='forecast')\n",
    "plt.plot(y_test, label='ground truth')\n",
    "plt.legend()"
   ]
  },
  {
   "cell_type": "code",
   "execution_count": null,
   "metadata": {},
   "outputs": [],
   "source": []
  },
  {
   "cell_type": "code",
   "execution_count": null,
   "metadata": {},
   "outputs": [],
   "source": []
  }
 ],
 "metadata": {
  "kernelspec": {
   "display_name": "Python 3",
   "language": "python",
   "name": "python3"
  },
  "language_info": {
   "codemirror_mode": {
    "name": "ipython",
    "version": 3
   },
   "file_extension": ".py",
   "mimetype": "text/x-python",
   "name": "python",
   "nbconvert_exporter": "python",
   "pygments_lexer": "ipython3",
   "version": "3.8.2"
  }
 },
 "nbformat": 4,
 "nbformat_minor": 4
}
